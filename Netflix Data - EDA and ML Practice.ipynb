{
 "cells": [
  {
   "cell_type": "markdown",
   "metadata": {},
   "source": [
    "# Netflix Shows & Movies EDA"
   ]
  },
  {
   "cell_type": "code",
   "execution_count": 272,
   "metadata": {},
   "outputs": [],
   "source": [
    "# Data manipulation & cleaning\n",
    "import pandas as pd\n",
    "\n",
    "# EDA Vis\n",
    "import matplotlib.pyplot as plt\n",
    "\n",
    "# Any linear algebra problems\n",
    "import numpy as np\n",
    "\n",
    "# NLP - Natural Lang. Toolkit - need this library for movie/show reccomendation\n",
    "import nltk # Won't usually require this, since you want specific packages, but for installation purposes - is required\n",
    "import nltk.corpus # Corpus - collection of written text\n",
    "from nltk.tokenize import word_tokenize # To tokenize any relevant strings\n",
    "from nltk.probability import FreqDist # To find frequence of tokens, helpful for various EDA\n",
    "\n",
    "# Saving any model(s)\n",
    "import joblib\n",
    "\n",
    "## Also import Make Regression from SkLearn - https://www.codespeedy.com/make_regression-function-in-sklearn-with-python/#:~:text=make_regression%20%28%29%20function%20in%20scikit%20learn%20It%20is,in%20python%20below.%20Code%20in%20Python%20programming%20language"
   ]
  },
  {
   "cell_type": "code",
   "execution_count": 257,
   "metadata": {},
   "outputs": [],
   "source": [
    "# Downloading all recommended packages for NLTK\n",
    "#nltk.download() # It's my first time using this library "
   ]
  },
  {
   "cell_type": "code",
   "execution_count": 258,
   "metadata": {},
   "outputs": [
    {
     "data": {
      "text/html": [
       "<div>\n",
       "<style scoped>\n",
       "    .dataframe tbody tr th:only-of-type {\n",
       "        vertical-align: middle;\n",
       "    }\n",
       "\n",
       "    .dataframe tbody tr th {\n",
       "        vertical-align: top;\n",
       "    }\n",
       "\n",
       "    .dataframe thead th {\n",
       "        text-align: right;\n",
       "    }\n",
       "</style>\n",
       "<table border=\"1\" class=\"dataframe\">\n",
       "  <thead>\n",
       "    <tr style=\"text-align: right;\">\n",
       "      <th></th>\n",
       "      <th>show_id</th>\n",
       "      <th>type</th>\n",
       "      <th>title</th>\n",
       "      <th>director</th>\n",
       "      <th>cast</th>\n",
       "      <th>country</th>\n",
       "      <th>date_added</th>\n",
       "      <th>release_year</th>\n",
       "      <th>rating</th>\n",
       "      <th>duration</th>\n",
       "      <th>listed_in</th>\n",
       "      <th>description</th>\n",
       "    </tr>\n",
       "  </thead>\n",
       "  <tbody>\n",
       "    <tr>\n",
       "      <th>0</th>\n",
       "      <td>s1</td>\n",
       "      <td>Movie</td>\n",
       "      <td>Dick Johnson Is Dead</td>\n",
       "      <td>Kirsten Johnson</td>\n",
       "      <td>NaN</td>\n",
       "      <td>United States</td>\n",
       "      <td>September 25, 2021</td>\n",
       "      <td>2020</td>\n",
       "      <td>PG-13</td>\n",
       "      <td>90 min</td>\n",
       "      <td>Documentaries</td>\n",
       "      <td>As her father nears the end of his life, filmm...</td>\n",
       "    </tr>\n",
       "    <tr>\n",
       "      <th>1</th>\n",
       "      <td>s2</td>\n",
       "      <td>TV Show</td>\n",
       "      <td>Blood &amp; Water</td>\n",
       "      <td>NaN</td>\n",
       "      <td>Ama Qamata, Khosi Ngema, Gail Mabalane, Thaban...</td>\n",
       "      <td>South Africa</td>\n",
       "      <td>September 24, 2021</td>\n",
       "      <td>2021</td>\n",
       "      <td>TV-MA</td>\n",
       "      <td>2 Seasons</td>\n",
       "      <td>International TV Shows, TV Dramas, TV Mysteries</td>\n",
       "      <td>After crossing paths at a party, a Cape Town t...</td>\n",
       "    </tr>\n",
       "    <tr>\n",
       "      <th>2</th>\n",
       "      <td>s3</td>\n",
       "      <td>TV Show</td>\n",
       "      <td>Ganglands</td>\n",
       "      <td>Julien Leclercq</td>\n",
       "      <td>Sami Bouajila, Tracy Gotoas, Samuel Jouy, Nabi...</td>\n",
       "      <td>NaN</td>\n",
       "      <td>September 24, 2021</td>\n",
       "      <td>2021</td>\n",
       "      <td>TV-MA</td>\n",
       "      <td>1 Season</td>\n",
       "      <td>Crime TV Shows, International TV Shows, TV Act...</td>\n",
       "      <td>To protect his family from a powerful drug lor...</td>\n",
       "    </tr>\n",
       "    <tr>\n",
       "      <th>3</th>\n",
       "      <td>s4</td>\n",
       "      <td>TV Show</td>\n",
       "      <td>Jailbirds New Orleans</td>\n",
       "      <td>NaN</td>\n",
       "      <td>NaN</td>\n",
       "      <td>NaN</td>\n",
       "      <td>September 24, 2021</td>\n",
       "      <td>2021</td>\n",
       "      <td>TV-MA</td>\n",
       "      <td>1 Season</td>\n",
       "      <td>Docuseries, Reality TV</td>\n",
       "      <td>Feuds, flirtations and toilet talk go down amo...</td>\n",
       "    </tr>\n",
       "    <tr>\n",
       "      <th>4</th>\n",
       "      <td>s5</td>\n",
       "      <td>TV Show</td>\n",
       "      <td>Kota Factory</td>\n",
       "      <td>NaN</td>\n",
       "      <td>Mayur More, Jitendra Kumar, Ranjan Raj, Alam K...</td>\n",
       "      <td>India</td>\n",
       "      <td>September 24, 2021</td>\n",
       "      <td>2021</td>\n",
       "      <td>TV-MA</td>\n",
       "      <td>2 Seasons</td>\n",
       "      <td>International TV Shows, Romantic TV Shows, TV ...</td>\n",
       "      <td>In a city of coaching centers known to train I...</td>\n",
       "    </tr>\n",
       "  </tbody>\n",
       "</table>\n",
       "</div>"
      ],
      "text/plain": [
       "  show_id     type                  title         director  \\\n",
       "0      s1    Movie   Dick Johnson Is Dead  Kirsten Johnson   \n",
       "1      s2  TV Show          Blood & Water              NaN   \n",
       "2      s3  TV Show              Ganglands  Julien Leclercq   \n",
       "3      s4  TV Show  Jailbirds New Orleans              NaN   \n",
       "4      s5  TV Show           Kota Factory              NaN   \n",
       "\n",
       "                                                cast        country  \\\n",
       "0                                                NaN  United States   \n",
       "1  Ama Qamata, Khosi Ngema, Gail Mabalane, Thaban...   South Africa   \n",
       "2  Sami Bouajila, Tracy Gotoas, Samuel Jouy, Nabi...            NaN   \n",
       "3                                                NaN            NaN   \n",
       "4  Mayur More, Jitendra Kumar, Ranjan Raj, Alam K...          India   \n",
       "\n",
       "           date_added  release_year rating   duration  \\\n",
       "0  September 25, 2021          2020  PG-13     90 min   \n",
       "1  September 24, 2021          2021  TV-MA  2 Seasons   \n",
       "2  September 24, 2021          2021  TV-MA   1 Season   \n",
       "3  September 24, 2021          2021  TV-MA   1 Season   \n",
       "4  September 24, 2021          2021  TV-MA  2 Seasons   \n",
       "\n",
       "                                           listed_in  \\\n",
       "0                                      Documentaries   \n",
       "1    International TV Shows, TV Dramas, TV Mysteries   \n",
       "2  Crime TV Shows, International TV Shows, TV Act...   \n",
       "3                             Docuseries, Reality TV   \n",
       "4  International TV Shows, Romantic TV Shows, TV ...   \n",
       "\n",
       "                                         description  \n",
       "0  As her father nears the end of his life, filmm...  \n",
       "1  After crossing paths at a party, a Cape Town t...  \n",
       "2  To protect his family from a powerful drug lor...  \n",
       "3  Feuds, flirtations and toilet talk go down amo...  \n",
       "4  In a city of coaching centers known to train I...  "
      ]
     },
     "execution_count": 258,
     "metadata": {},
     "output_type": "execute_result"
    }
   ],
   "source": [
    "# Importing data and create a backup \n",
    "df = pd.read_csv(r\"C:\\Users\\ssc44611\\Documents\\L4 Projects\\1. Netflix (Personal Proj) - ML Focus\\netflix_titles.csv\")\n",
    "df_backup = df.copy()\n",
    "df.head()"
   ]
  },
  {
   "cell_type": "code",
   "execution_count": 259,
   "metadata": {},
   "outputs": [
    {
     "data": {
      "text/plain": [
       "(8807, 12)"
      ]
     },
     "execution_count": 259,
     "metadata": {},
     "output_type": "execute_result"
    }
   ],
   "source": [
    "df.shape"
   ]
  },
  {
   "cell_type": "markdown",
   "metadata": {},
   "source": [
    "#### Manipulation"
   ]
  },
  {
   "cell_type": "code",
   "execution_count": 260,
   "metadata": {},
   "outputs": [
    {
     "data": {
      "text/plain": [
       "show_id            0\n",
       "type               0\n",
       "title              0\n",
       "director        2634\n",
       "cast             825\n",
       "country          831\n",
       "date_added        10\n",
       "release_year       0\n",
       "rating             4\n",
       "duration           3\n",
       "listed_in          0\n",
       "description        0\n",
       "dtype: int64"
      ]
     },
     "execution_count": 260,
     "metadata": {},
     "output_type": "execute_result"
    }
   ],
   "source": [
    "# Count amount of null values\n",
    "df.isnull().sum()"
   ]
  },
  {
   "cell_type": "code",
   "execution_count": 261,
   "metadata": {},
   "outputs": [
    {
     "data": {
      "text/plain": [
       "show_id         0\n",
       "type            0\n",
       "title           0\n",
       "director        0\n",
       "cast            0\n",
       "country         0\n",
       "date_added      0\n",
       "release_year    0\n",
       "rating          0\n",
       "duration        0\n",
       "listed_in       0\n",
       "description     0\n",
       "dtype: int64"
      ]
     },
     "execution_count": 261,
     "metadata": {},
     "output_type": "execute_result"
    }
   ],
   "source": [
    "# Since null rows won't help us, we should just drop them - we have a backup, so it's okay\n",
    "df.dropna(inplace=True)\n",
    "df.isnull().sum()"
   ]
  },
  {
   "cell_type": "code",
   "execution_count": 262,
   "metadata": {},
   "outputs": [],
   "source": [
    "# Since null rows have been dropped, the original index will have messed up\n",
    "# Reset index for new df\n",
    "df.reset_index(inplace=True)"
   ]
  },
  {
   "cell_type": "code",
   "execution_count": 268,
   "metadata": {},
   "outputs": [],
   "source": [
    "# Converting date-related data into datetime, to make it formatted to refer to for analysis\n",
    "# Creating 2 new columns - Year & month, to open more analysis opportunities and more perspectives of date analysis\n",
    "df['date_added'] = pd.to_datetime(df['date_added'])\n",
    "df['year_added'] = df['date_added'].dt.year\n",
    "df['month_added'] = df['date_added'].dt.month"
   ]
  },
  {
   "cell_type": "markdown",
   "metadata": {},
   "source": [
    "The code above mayn't apply to the end goal of this project, but we can use it for reference in future projects"
   ]
  },
  {
   "cell_type": "code",
   "execution_count": 278,
   "metadata": {},
   "outputs": [],
   "source": [
    "#df.drop(['index'], axis=1, inplace=True)"
   ]
  },
  {
   "cell_type": "code",
   "execution_count": 277,
   "metadata": {},
   "outputs": [],
   "source": [
    "# Extracting columns for future reference\n",
    "cols = df.columns "
   ]
  },
  {
   "cell_type": "code",
   "execution_count": 275,
   "metadata": {},
   "outputs": [
    {
     "data": {
      "text/plain": [
       "(5332, 14)"
      ]
     },
     "execution_count": 275,
     "metadata": {},
     "output_type": "execute_result"
    }
   ],
   "source": [
    "# Shape of no null df, we have also have a backup.\n",
    "df.shape"
   ]
  },
  {
   "cell_type": "markdown",
   "metadata": {},
   "source": [
    "## TV Shows vs Movies - Data Extraction\n",
    "\n",
    "Further into the notebook we will be looking at a recommendation system - so we need to extract this specific data "
   ]
  },
  {
   "cell_type": "code",
   "execution_count": 42,
   "metadata": {},
   "outputs": [],
   "source": [
    "# Distribution of content via type\n",
    "movies = df.loc[df['type'] == 'Movie']\n",
    "tv_shows = df.loc[df['type'] == 'TV Show']\n",
    "\n",
    "# Resetting index for movie & show data\n",
    "movies.reset_index(inplace=True)\n",
    "tv_shows.reset_index(inplace=True)\n",
    "\n",
    "movies.drop(['index'], axis=1, inplace=True) # Droppping 'Index' column since we just reset and created a new index.\n",
    "tv_shows.drop(['index'], axis=1, inplace=True)"
   ]
  },
  {
   "cell_type": "markdown",
   "metadata": {},
   "source": [
    "### EDA"
   ]
  },
  {
   "cell_type": "code",
   "execution_count": 43,
   "metadata": {},
   "outputs": [
    {
     "data": {
      "text/plain": [
       "['show_id',\n",
       " 'type',\n",
       " 'title',\n",
       " 'director',\n",
       " 'cast',\n",
       " 'country',\n",
       " 'date_added',\n",
       " 'release_year',\n",
       " 'rating',\n",
       " 'duration',\n",
       " 'listed_in',\n",
       " 'description',\n",
       " 'year_added',\n",
       " 'month_added']"
      ]
     },
     "execution_count": 43,
     "metadata": {},
     "output_type": "execute_result"
    }
   ],
   "source": [
    "# Print columns to get more aspects of the data to analyse\n",
    "list(cols) # List makes it easier to read"
   ]
  },
  {
   "cell_type": "markdown",
   "metadata": {},
   "source": [
    "#### Distribution Of Movies vs TV Shows"
   ]
  },
  {
   "cell_type": "code",
   "execution_count": 205,
   "metadata": {},
   "outputs": [
    {
     "data": {
      "text/plain": [
       "([<matplotlib.patches.Wedge at 0x2508d3bafd0>,\n",
       "  <matplotlib.patches.Wedge at 0x2508d3df588>],\n",
       " [Text(-1.0958766901652248, 0.09515398022422511, 'Movies'),\n",
       "  Text(1.0958766840403136, -0.09515405076404879, 'TV Shows')])"
      ]
     },
     "execution_count": 205,
     "metadata": {},
     "output_type": "execute_result"
    },
    {
     "data": {
      "image/png": "[encoded data removed]",
      "text/plain": [
       "<Figure size 720x360 with 1 Axes>"
      ]
     },
     "metadata": {},
     "output_type": "display_data"
    }
   ],
   "source": [
    "# Distribution Pie\n",
    "movies_c = len(movies)\n",
    "tv_shows_c = len(tv_shows)\n",
    "\n",
    "plt.figure(figsize= (10,5))\n",
    "labels = ['Movies', 'TV Shows']\n",
    "\n",
    "plt.pie([movies_c, tv_shows_c], labels=labels, colors= ['red', 'white'], wedgeprops={'edgecolor' :'black'})"
   ]
  },
  {
   "cell_type": "markdown",
   "metadata": {},
   "source": [
    "#### Content Age Ratings Distribution"
   ]
  },
  {
   "cell_type": "code",
   "execution_count": 279,
   "metadata": {},
   "outputs": [],
   "source": [
    "# Seperating data into ratings \n",
    "ratings = [len(df.loc[df['rating']== 'TV-14']), len(df.loc[df['rating']== 'PG-13']), len(df.loc[df['rating']== 'PG']), len(df.loc[df['rating']== 'R']),\n",
    "           len(df.loc[df['rating']== 'TV-PG']), len(df.loc[df['rating']== 'G']), len(df.loc[df['rating']== 'TV-Y7']), len(df.loc[df['rating']== 'TV-G']),\n",
    "           len(df.loc[df['rating']== 'TV-Y']),len(df.loc[df['rating']== 'NC-17']), len(df.loc[df['rating']== 'NR']), len(df.loc[df['rating']== 'TV-Y7-FV']), \n",
    "           len(df.loc[df['rating']== 'UR'])]\n",
    "\n",
    "total = len(df)\n",
    "ratings_name = ['TV-14', 'PG-13', 'PG', 'R', 'TV-PG', 'G', 'TV-Y7', 'TV-G', 'TV-Y', 'NC-17', 'NR', 'TV-Y7-FV', 'UR']\n",
    "\n",
    "## For this cell, NLTK Tokenizing might be better - **ammend at a later point**"
   ]
  },
  {
   "cell_type": "code",
   "execution_count": 46,
   "metadata": {},
   "outputs": [
    {
     "data": {
      "text/plain": [
       "[1214, 778, 470, 431, 275, 84, 76, 76, 58, 40, 3, 3, 2]"
      ]
     },
     "execution_count": 46,
     "metadata": {},
     "output_type": "execute_result"
    }
   ],
   "source": [
    "ratings_ordered = np.sort(ratings)[::-1]\n",
    "list(ratings_ordered)"
   ]
  },
  {
   "cell_type": "code",
   "execution_count": 249,
   "metadata": {},
   "outputs": [
    {
     "data": {
      "image/png": "[encoded data removed]",
      "text/plain": [
       "<Figure size 1080x360 with 1 Axes>"
      ]
     },
     "metadata": {
      "needs_background": "light"
     },
     "output_type": "display_data"
    }
   ],
   "source": [
    "# Bar plots\n",
    "plt.figure(figsize=(15,5))\n",
    "ax = plt.gca() # Calling 'gca()' - allowing us to change the background of the graph\n",
    "ax.set_facecolor('grey')\n",
    "\n",
    "#Plotting bar\n",
    "plt.bar(ratings_name, ratings, color=['red', 'white'], label ='Content Rating', edgecolor='black')\n",
    "\n",
    "# Assigning labels to axes\n",
    "plt.xlabel('Content Rating')\n",
    "plt.xticks(ratings_name, rotation='vertical')\n",
    "plt.ylabel('Content Ratinga Count')\n",
    "plt.yticks()\n",
    "plt.minorticks_on()\n",
    "plt.title('Content Rating Distribution')\n",
    "plt.ylim([0,1500]) # Ammending the y axis limit\n",
    "\n",
    "# Assigning labels on top of the bars\n",
    "for i in range(len(ratings_name)): # ;='for' loop allows us to assign the values on every bar in one line of code\n",
    "    plt.text(i,ratings[i], ratings[i], ha=\"center\", va=\"bottom\", color='black', fontsize='medium')\n",
    "\n",
    "##Present Data\n",
    "plt.legend()\n",
    "plt.show()"
   ]
  },
  {
   "cell_type": "markdown",
   "metadata": {},
   "source": [
    "### Common Movie Description"
   ]
  },
  {
   "cell_type": "code",
   "execution_count": 188,
   "metadata": {},
   "outputs": [
    {
     "data": {
      "text/html": [
       "<div>\n",
       "<style scoped>\n",
       "    .dataframe tbody tr th:only-of-type {\n",
       "        vertical-align: middle;\n",
       "    }\n",
       "\n",
       "    .dataframe tbody tr th {\n",
       "        vertical-align: top;\n",
       "    }\n",
       "\n",
       "    .dataframe thead th {\n",
       "        text-align: right;\n",
       "    }\n",
       "</style>\n",
       "<table border=\"1\" class=\"dataframe\">\n",
       "  <thead>\n",
       "    <tr style=\"text-align: right;\">\n",
       "      <th></th>\n",
       "      <th>show_id</th>\n",
       "      <th>type</th>\n",
       "      <th>title</th>\n",
       "      <th>director</th>\n",
       "      <th>cast</th>\n",
       "      <th>country</th>\n",
       "      <th>date_added</th>\n",
       "      <th>release_year</th>\n",
       "      <th>rating</th>\n",
       "      <th>duration</th>\n",
       "      <th>listed_in</th>\n",
       "      <th>description</th>\n",
       "      <th>year_added</th>\n",
       "      <th>month_added</th>\n",
       "    </tr>\n",
       "  </thead>\n",
       "  <tbody>\n",
       "    <tr>\n",
       "      <th>0</th>\n",
       "      <td>s8</td>\n",
       "      <td>Movie</td>\n",
       "      <td>Sankofa</td>\n",
       "      <td>Haile Gerima</td>\n",
       "      <td>Kofi Ghanaba, Oyafunmike Ogunlano, Alexandra D...</td>\n",
       "      <td>United States, Ghana, Burkina Faso, United Kin...</td>\n",
       "      <td>2021-09-24</td>\n",
       "      <td>1993</td>\n",
       "      <td>TV-MA</td>\n",
       "      <td>125 min</td>\n",
       "      <td>Dramas, Independent Movies, International Movies</td>\n",
       "      <td>On a photo shoot in Ghana, an American model s...</td>\n",
       "      <td>2021</td>\n",
       "      <td>9</td>\n",
       "    </tr>\n",
       "    <tr>\n",
       "      <th>1</th>\n",
       "      <td>s10</td>\n",
       "      <td>Movie</td>\n",
       "      <td>The Starling</td>\n",
       "      <td>Theodore Melfi</td>\n",
       "      <td>Melissa McCarthy, Chris O'Dowd, Kevin Kline, T...</td>\n",
       "      <td>United States</td>\n",
       "      <td>2021-09-24</td>\n",
       "      <td>2021</td>\n",
       "      <td>PG-13</td>\n",
       "      <td>104 min</td>\n",
       "      <td>Comedies, Dramas</td>\n",
       "      <td>A woman adjusting to life after a loss contend...</td>\n",
       "      <td>2021</td>\n",
       "      <td>9</td>\n",
       "    </tr>\n",
       "    <tr>\n",
       "      <th>2</th>\n",
       "      <td>s13</td>\n",
       "      <td>Movie</td>\n",
       "      <td>Je Suis Karl</td>\n",
       "      <td>Christian Schwochow</td>\n",
       "      <td>Luna Wedler, Jannis Niewöhner, Milan Peschel, ...</td>\n",
       "      <td>Germany, Czech Republic</td>\n",
       "      <td>2021-09-23</td>\n",
       "      <td>2021</td>\n",
       "      <td>TV-MA</td>\n",
       "      <td>127 min</td>\n",
       "      <td>Dramas, International Movies</td>\n",
       "      <td>After most of her family is murdered in a terr...</td>\n",
       "      <td>2021</td>\n",
       "      <td>9</td>\n",
       "    </tr>\n",
       "  </tbody>\n",
       "</table>\n",
       "</div>"
      ],
      "text/plain": [
       "  show_id   type         title             director  \\\n",
       "0      s8  Movie       Sankofa         Haile Gerima   \n",
       "1     s10  Movie  The Starling       Theodore Melfi   \n",
       "2     s13  Movie  Je Suis Karl  Christian Schwochow   \n",
       "\n",
       "                                                cast  \\\n",
       "0  Kofi Ghanaba, Oyafunmike Ogunlano, Alexandra D...   \n",
       "1  Melissa McCarthy, Chris O'Dowd, Kevin Kline, T...   \n",
       "2  Luna Wedler, Jannis Niewöhner, Milan Peschel, ...   \n",
       "\n",
       "                                             country date_added  release_year  \\\n",
       "0  United States, Ghana, Burkina Faso, United Kin... 2021-09-24          1993   \n",
       "1                                      United States 2021-09-24          2021   \n",
       "2                            Germany, Czech Republic 2021-09-23          2021   \n",
       "\n",
       "  rating duration                                         listed_in  \\\n",
       "0  TV-MA  125 min  Dramas, Independent Movies, International Movies   \n",
       "1  PG-13  104 min                                  Comedies, Dramas   \n",
       "2  TV-MA  127 min                      Dramas, International Movies   \n",
       "\n",
       "                                         description  year_added  month_added  \n",
       "0  On a photo shoot in Ghana, an American model s...        2021            9  \n",
       "1  A woman adjusting to life after a loss contend...        2021            9  \n",
       "2  After most of her family is murdered in a terr...        2021            9  "
      ]
     },
     "execution_count": 188,
     "metadata": {},
     "output_type": "execute_result"
    }
   ],
   "source": [
    "movies.head(3)"
   ]
  },
  {
   "cell_type": "code",
   "execution_count": 185,
   "metadata": {},
   "outputs": [],
   "source": [
    "# We want to look at the description of the movies\n",
    "# Since we want to tokenize the words, we need to convert the column into dtye: string\n",
    "\n",
    "#This method allows you to convert the columns into one long string, as needed for the word_tokenize function\n",
    "mov_desc = movies.listed_in.str.cat(sep=' ')"
   ]
  },
  {
   "cell_type": "code",
   "execution_count": 163,
   "metadata": {
    "scrolled": true
   },
   "outputs": [
    {
     "data": {
      "text/plain": [
       "26882"
      ]
     },
     "execution_count": 163,
     "metadata": {},
     "output_type": "execute_result"
    }
   ],
   "source": [
    "# Now that we have the column as one long string, we can tokenize the words\n",
    "mov_desc_tokens = nltk.word_tokenize(mov_desc)\n",
    "len(mov_desc_tokens)"
   ]
  },
  {
   "cell_type": "code",
   "execution_count": 164,
   "metadata": {},
   "outputs": [],
   "source": [
    "# Gathering frequency of token occurence\n",
    "freq_m_d_t = FreqDist() # Variable to contain to function for this specific use"
   ]
  },
  {
   "cell_type": "code",
   "execution_count": 165,
   "metadata": {},
   "outputs": [
    {
     "data": {
      "text/plain": [
       "FreqDist({',': 6306, 'movies': 4960, 'international': 2369, 'dramas': 2293, '&': 1895, 'comedies': 1553, 'action': 806, 'adventure': 806, 'independent': 740, 'romantic': 579, ...})"
      ]
     },
     "execution_count": 165,
     "metadata": {},
     "output_type": "execute_result"
    }
   ],
   "source": [
    "# Loop to count occurence of each token\n",
    "for word in mov_desc_tokens:\n",
    "    freq_m_d_t[word.lower()]+=1 # \"+=1\" - increases count of each occurence by 1\n",
    "freq_m_d_t"
   ]
  },
  {
   "cell_type": "code",
   "execution_count": 168,
   "metadata": {},
   "outputs": [
    {
     "data": {
      "text/plain": [
       "29"
      ]
     },
     "execution_count": 168,
     "metadata": {},
     "output_type": "execute_result"
    }
   ],
   "source": [
    "#Length of the unique values in the description \n",
    "len(freq_m_d_t)"
   ]
  },
  {
   "cell_type": "markdown",
   "metadata": {},
   "source": [
    "Total tokens = 26,882, Unique tokens = 29"
   ]
  },
  {
   "cell_type": "code",
   "execution_count": 186,
   "metadata": {},
   "outputs": [
    {
     "data": {
      "text/plain": [
       "[(',', 6306),\n",
       " ('movies', 4960),\n",
       " ('international', 2369),\n",
       " ('dramas', 2293),\n",
       " ('&', 1895),\n",
       " ('comedies', 1553),\n",
       " ('action', 806),\n",
       " ('adventure', 806),\n",
       " ('independent', 740),\n",
       " ('romantic', 579),\n",
       " ('thrillers', 547),\n",
       " ('children', 503),\n",
       " ('family', 503),\n",
       " ('documentaries', 391),\n",
       " ('horror', 336),\n",
       " ('stand-up', 294)]"
      ]
     },
     "execution_count": 186,
     "metadata": {},
     "output_type": "execute_result"
    }
   ],
   "source": [
    "# Variable to store the top 'x' most common tokens\n",
    "freq_mdt_t10 = freq_m_d_t.most_common(16)\n",
    "freq_mdt_t10"
   ]
  },
  {
   "cell_type": "markdown",
   "metadata": {},
   "source": [
    "We can focus on actual genres, the genres we're going to plot are:\n",
    "    - Dramas : 2293\n",
    "    - Comedy : 1553\n",
    "    - Action : 806\n",
    "    - Adventure : 806\n",
    "    - Romantic : 579\n",
    "    - Thrillers : 547\n",
    "    - Family : 503\n",
    "    - Documentaries : 391\n",
    "    - Horror : 336\n",
    "    - Stand-up : 294\n",
    "We can ignore some of the values since they aren't genres..."
   ]
  },
  {
   "cell_type": "code",
   "execution_count": 255,
   "metadata": {},
   "outputs": [
    {
     "data": {
      "image/png": "[encoded data removed]",
      "text/plain": [
       "<Figure size 1080x360 with 1 Axes>"
      ]
     },
     "metadata": {
      "needs_background": "light"
     },
     "output_type": "display_data"
    }
   ],
   "source": [
    "# Time to plot the top 10 genres\n",
    "mov_genres_x = ['Dramas', 'Comedy', 'Action', 'Adventure', 'Romantic', 'Thrillers', 'Family', 'Documentaries', 'Horror', 'Stand-up']\n",
    "mov_values_y = [2293,1553,806,806,579,547,503,391,336,294]\n",
    "plt.figure(figsize=[15,5])\n",
    "\n",
    "ax = plt.gca() # Calling 'gca()' - allowing us to change the background of the graph\n",
    "ax.set_facecolor('grey')\n",
    "\n",
    "# Plotting the bar\n",
    "bar_genre_freq10 = plt.bar(mov_genres_x, mov_values_y, label = 'Top 10 Genres (Movies)', color =['red','white'], edgecolor=['black'])\n",
    "\n",
    "# Assigning values to graph axes\n",
    "plt.yticks()\n",
    "plt.ylabel('Genre Count')\n",
    "plt.xticks(mov_genres_x, rotation= 'vertical')\n",
    "plt.xlabel('Movie Genres')\n",
    "plt.minorticks_on()\n",
    "plt.title('Top-10 Netflix Movie Genres')\n",
    "plt.ylim([0,2500]) # Ammending the y axis limit\n",
    "\n",
    "# Assigning labels on top of the bars\n",
    "for i in range(len(mov_genres_x)): # ;='for' loop allows us to assign the values on every bar in one line of code\n",
    "    plt.text(i,mov_values_y[i], mov_values_y[i], ha=\"center\", va=\"bottom\", color='black', fontsize='large')\n",
    "    \n",
    "##Present Data\n",
    "plt.legend()\n",
    "plt.show(bar_genre_freq10)\n"
   ]
  },
  {
   "cell_type": "markdown",
   "metadata": {},
   "source": [
    "## Recommendation System - NLTK"
   ]
  },
  {
   "cell_type": "markdown",
   "metadata": {},
   "source": [
    "In this section we will be creating an algorithm that recommends movies and shows, relevant to what the viewer is watching."
   ]
  },
  {
   "cell_type": "code",
   "execution_count": null,
   "metadata": {},
   "outputs": [],
   "source": [
    "# Calling Movie & TV Show data\n",
    "## We will only require some of the data here, so we'll slice it further\n",
    "movies_cut = movies[['title','director','country','listed_in', 'description']]"
   ]
  },
  {
   "cell_type": "code",
   "execution_count": null,
   "metadata": {},
   "outputs": [],
   "source": []
  },
  {
   "cell_type": "code",
   "execution_count": null,
   "metadata": {},
   "outputs": [],
   "source": []
  }
 ],
 "metadata": {
  "kernelspec": {
   "display_name": "Python 3",
   "language": "python",
   "name": "python3"
  },
  "language_info": {
   "codemirror_mode": {
    "name": "ipython",
    "version": 3
   },
   "file_extension": ".py",
   "mimetype": "text/x-python",
   "name": "python",
   "nbconvert_exporter": "python",
   "pygments_lexer": "ipython3",
   "version": "3.7.3"
  }
 },
 "nbformat": 4,
 "nbformat_minor": 2
}
