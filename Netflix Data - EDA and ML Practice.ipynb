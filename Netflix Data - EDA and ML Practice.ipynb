{
 "cells": [
  {
   "cell_type": "markdown",
   "metadata": {},
   "source": [
    "# Netflix Shows & Movies EDA"
   ]
  },
  {
   "cell_type": "code",
   "execution_count": 644,
   "metadata": {},
   "outputs": [],
   "source": [
    "# Data manipulation & cleaning\n",
    "import pandas as pd\n",
    "\n",
    "# EDA Vis\n",
    "import matplotlib.pyplot as plt\n",
    "\n",
    "# Any linear algebra problems\n",
    "import numpy as np\n",
    "\n",
    "# NLP - Natural Lang. Toolkit - need this library for movie/show reccomendation\n",
    "import nltk # Won't usually require this, since you want specific packages, but for installation purposes - is required\n",
    "from nltk.corpus import stopwords # Corpus - collection of written text\n",
    "from nltk.tokenize import word_tokenize # To tokenize any relevant strings\n",
    "from nltk.tokenize import PunktSentenceTokenizer\n",
    "from nltk.probability import FreqDist # To find frequence of tokens, helpful for various EDA\n",
    "\n",
    "#SkLearn - Training and test\n",
    "from sklearn.model_selection import train_test_split\n",
    "\n",
    "# Saving any model(s)\n",
    "import joblib\n",
    "\n",
    "## Also import Make Regression from SkLearn - https://www.codespeedy.com/make_regression-function-in-sklearn-with-python/#:~:text=make_regression%20%28%29%20function%20in%20scikit%20learn%20It%20is,in%20python%20below.%20Code%20in%20Python%20programming%20language"
   ]
  },
  {
   "cell_type": "code",
   "execution_count": 645,
   "metadata": {},
   "outputs": [],
   "source": [
    "# Downloading all recommended packages for NLTK\n",
    "#nltk.download() # It's my first time using this library "
   ]
  },
  {
   "cell_type": "code",
   "execution_count": 828,
   "metadata": {},
   "outputs": [
    {
     "data": {
      "text/html": [
       "<div>\n",
       "<style scoped>\n",
       "    .dataframe tbody tr th:only-of-type {\n",
       "        vertical-align: middle;\n",
       "    }\n",
       "\n",
       "    .dataframe tbody tr th {\n",
       "        vertical-align: top;\n",
       "    }\n",
       "\n",
       "    .dataframe thead th {\n",
       "        text-align: right;\n",
       "    }\n",
       "</style>\n",
       "<table border=\"1\" class=\"dataframe\">\n",
       "  <thead>\n",
       "    <tr style=\"text-align: right;\">\n",
       "      <th></th>\n",
       "      <th>show_id</th>\n",
       "      <th>type</th>\n",
       "      <th>title</th>\n",
       "      <th>director</th>\n",
       "      <th>cast</th>\n",
       "      <th>country</th>\n",
       "      <th>date_added</th>\n",
       "      <th>release_year</th>\n",
       "      <th>rating</th>\n",
       "      <th>duration</th>\n",
       "      <th>listed_in</th>\n",
       "      <th>description</th>\n",
       "    </tr>\n",
       "  </thead>\n",
       "  <tbody>\n",
       "    <tr>\n",
       "      <th>0</th>\n",
       "      <td>s1</td>\n",
       "      <td>Movie</td>\n",
       "      <td>Dick Johnson Is Dead</td>\n",
       "      <td>Kirsten Johnson</td>\n",
       "      <td>NaN</td>\n",
       "      <td>United States</td>\n",
       "      <td>September 25, 2021</td>\n",
       "      <td>2020</td>\n",
       "      <td>PG-13</td>\n",
       "      <td>90 min</td>\n",
       "      <td>Documentaries</td>\n",
       "      <td>As her father nears the end of his life, filmm...</td>\n",
       "    </tr>\n",
       "    <tr>\n",
       "      <th>1</th>\n",
       "      <td>s2</td>\n",
       "      <td>TV Show</td>\n",
       "      <td>Blood &amp; Water</td>\n",
       "      <td>NaN</td>\n",
       "      <td>Ama Qamata, Khosi Ngema, Gail Mabalane, Thaban...</td>\n",
       "      <td>South Africa</td>\n",
       "      <td>September 24, 2021</td>\n",
       "      <td>2021</td>\n",
       "      <td>TV-MA</td>\n",
       "      <td>2 Seasons</td>\n",
       "      <td>International TV Shows, TV Dramas, TV Mysteries</td>\n",
       "      <td>After crossing paths at a party, a Cape Town t...</td>\n",
       "    </tr>\n",
       "    <tr>\n",
       "      <th>2</th>\n",
       "      <td>s3</td>\n",
       "      <td>TV Show</td>\n",
       "      <td>Ganglands</td>\n",
       "      <td>Julien Leclercq</td>\n",
       "      <td>Sami Bouajila, Tracy Gotoas, Samuel Jouy, Nabi...</td>\n",
       "      <td>NaN</td>\n",
       "      <td>September 24, 2021</td>\n",
       "      <td>2021</td>\n",
       "      <td>TV-MA</td>\n",
       "      <td>1 Season</td>\n",
       "      <td>Crime TV Shows, International TV Shows, TV Act...</td>\n",
       "      <td>To protect his family from a powerful drug lor...</td>\n",
       "    </tr>\n",
       "    <tr>\n",
       "      <th>3</th>\n",
       "      <td>s4</td>\n",
       "      <td>TV Show</td>\n",
       "      <td>Jailbirds New Orleans</td>\n",
       "      <td>NaN</td>\n",
       "      <td>NaN</td>\n",
       "      <td>NaN</td>\n",
       "      <td>September 24, 2021</td>\n",
       "      <td>2021</td>\n",
       "      <td>TV-MA</td>\n",
       "      <td>1 Season</td>\n",
       "      <td>Docuseries, Reality TV</td>\n",
       "      <td>Feuds, flirtations and toilet talk go down amo...</td>\n",
       "    </tr>\n",
       "    <tr>\n",
       "      <th>4</th>\n",
       "      <td>s5</td>\n",
       "      <td>TV Show</td>\n",
       "      <td>Kota Factory</td>\n",
       "      <td>NaN</td>\n",
       "      <td>Mayur More, Jitendra Kumar, Ranjan Raj, Alam K...</td>\n",
       "      <td>India</td>\n",
       "      <td>September 24, 2021</td>\n",
       "      <td>2021</td>\n",
       "      <td>TV-MA</td>\n",
       "      <td>2 Seasons</td>\n",
       "      <td>International TV Shows, Romantic TV Shows, TV ...</td>\n",
       "      <td>In a city of coaching centers known to train I...</td>\n",
       "    </tr>\n",
       "  </tbody>\n",
       "</table>\n",
       "</div>"
      ],
      "text/plain": [
       "  show_id     type                  title         director  \\\n",
       "0      s1    Movie   Dick Johnson Is Dead  Kirsten Johnson   \n",
       "1      s2  TV Show          Blood & Water              NaN   \n",
       "2      s3  TV Show              Ganglands  Julien Leclercq   \n",
       "3      s4  TV Show  Jailbirds New Orleans              NaN   \n",
       "4      s5  TV Show           Kota Factory              NaN   \n",
       "\n",
       "                                                cast        country  \\\n",
       "0                                                NaN  United States   \n",
       "1  Ama Qamata, Khosi Ngema, Gail Mabalane, Thaban...   South Africa   \n",
       "2  Sami Bouajila, Tracy Gotoas, Samuel Jouy, Nabi...            NaN   \n",
       "3                                                NaN            NaN   \n",
       "4  Mayur More, Jitendra Kumar, Ranjan Raj, Alam K...          India   \n",
       "\n",
       "           date_added  release_year rating   duration  \\\n",
       "0  September 25, 2021          2020  PG-13     90 min   \n",
       "1  September 24, 2021          2021  TV-MA  2 Seasons   \n",
       "2  September 24, 2021          2021  TV-MA   1 Season   \n",
       "3  September 24, 2021          2021  TV-MA   1 Season   \n",
       "4  September 24, 2021          2021  TV-MA  2 Seasons   \n",
       "\n",
       "                                           listed_in  \\\n",
       "0                                      Documentaries   \n",
       "1    International TV Shows, TV Dramas, TV Mysteries   \n",
       "2  Crime TV Shows, International TV Shows, TV Act...   \n",
       "3                             Docuseries, Reality TV   \n",
       "4  International TV Shows, Romantic TV Shows, TV ...   \n",
       "\n",
       "                                         description  \n",
       "0  As her father nears the end of his life, filmm...  \n",
       "1  After crossing paths at a party, a Cape Town t...  \n",
       "2  To protect his family from a powerful drug lor...  \n",
       "3  Feuds, flirtations and toilet talk go down amo...  \n",
       "4  In a city of coaching centers known to train I...  "
      ]
     },
     "execution_count": 828,
     "metadata": {},
     "output_type": "execute_result"
    }
   ],
   "source": [
    "# Importing data and create a backup \n",
    "df = pd.read_csv(r\"C:\\Users\\ssc44611\\Documents\\L4 Projects\\1. Netflix (Personal Proj) - ML Focus\\netflix_titles.csv\")\n",
    "df_backup = df.copy()\n",
    "df.head(5)"
   ]
  },
  {
   "cell_type": "code",
   "execution_count": 647,
   "metadata": {},
   "outputs": [
    {
     "data": {
      "text/plain": [
       "(8807, 12)"
      ]
     },
     "execution_count": 647,
     "metadata": {},
     "output_type": "execute_result"
    }
   ],
   "source": [
    "df.shape"
   ]
  },
  {
   "cell_type": "markdown",
   "metadata": {},
   "source": [
    "#### Manipulation"
   ]
  },
  {
   "cell_type": "code",
   "execution_count": 648,
   "metadata": {},
   "outputs": [
    {
     "data": {
      "text/plain": [
       "show_id            0\n",
       "type               0\n",
       "title              0\n",
       "director        2634\n",
       "cast             825\n",
       "country          831\n",
       "date_added        10\n",
       "release_year       0\n",
       "rating             4\n",
       "duration           3\n",
       "listed_in          0\n",
       "description        0\n",
       "dtype: int64"
      ]
     },
     "execution_count": 648,
     "metadata": {},
     "output_type": "execute_result"
    }
   ],
   "source": [
    "# Count amount of null values\n",
    "df.isnull().sum()"
   ]
  },
  {
   "cell_type": "code",
   "execution_count": 649,
   "metadata": {},
   "outputs": [
    {
     "data": {
      "text/plain": [
       "show_id         0\n",
       "type            0\n",
       "title           0\n",
       "director        0\n",
       "cast            0\n",
       "country         0\n",
       "date_added      0\n",
       "release_year    0\n",
       "rating          0\n",
       "duration        0\n",
       "listed_in       0\n",
       "description     0\n",
       "dtype: int64"
      ]
     },
     "execution_count": 649,
     "metadata": {},
     "output_type": "execute_result"
    }
   ],
   "source": [
    "# Since null rows won't help us, we should just drop them - we have a backup, so it's okay\n",
    "df.dropna(inplace=True)\n",
    "df.isnull().sum()"
   ]
  },
  {
   "cell_type": "code",
   "execution_count": 650,
   "metadata": {},
   "outputs": [],
   "source": [
    "# Since null rows have been dropped, the original index will have messed up\n",
    "# Reset index for new df\n",
    "df.reset_index(inplace=True)"
   ]
  },
  {
   "cell_type": "code",
   "execution_count": 651,
   "metadata": {},
   "outputs": [],
   "source": [
    "# Converting date-related data into datetime, to make it formatted to refer to for analysis\n",
    "# Creating 2 new columns - Year & month, to open more analysis opportunities and more perspectives of date analysis\n",
    "df['date_added'] = pd.to_datetime(df['date_added'])\n",
    "df['year_added'] = df['date_added'].dt.year\n",
    "df['month_added'] = df['date_added'].dt.month"
   ]
  },
  {
   "cell_type": "markdown",
   "metadata": {},
   "source": [
    "The code above mayn't apply to the end goal of this project, but we can use it for reference in future projects"
   ]
  },
  {
   "cell_type": "code",
   "execution_count": 652,
   "metadata": {},
   "outputs": [],
   "source": [
    "#df.drop(['index'], axis=1, inplace=True)"
   ]
  },
  {
   "cell_type": "code",
   "execution_count": 653,
   "metadata": {},
   "outputs": [],
   "source": [
    "# Extracting columns for future reference\n",
    "cols = df.columns "
   ]
  },
  {
   "cell_type": "code",
   "execution_count": 654,
   "metadata": {},
   "outputs": [
    {
     "data": {
      "text/plain": [
       "(5332, 15)"
      ]
     },
     "execution_count": 654,
     "metadata": {},
     "output_type": "execute_result"
    }
   ],
   "source": [
    "# Shape of no null df, we have also have a backup.\n",
    "df.shape"
   ]
  },
  {
   "cell_type": "markdown",
   "metadata": {},
   "source": [
    "## TV Shows vs Movies - Data Extraction\n",
    "\n",
    "Further into the notebook we will be looking at a recommendation system - so we need to extract this specific data "
   ]
  },
  {
   "cell_type": "code",
   "execution_count": 655,
   "metadata": {},
   "outputs": [
    {
     "name": "stderr",
     "output_type": "stream",
     "text": [
      "C:\\Anaconda3\\lib\\site-packages\\pandas\\core\\frame.py:3940: SettingWithCopyWarning: \n",
      "A value is trying to be set on a copy of a slice from a DataFrame\n",
      "\n",
      "See the caveats in the documentation: http://pandas.pydata.org/pandas-docs/stable/indexing.html#indexing-view-versus-copy\n",
      "  errors=errors)\n"
     ]
    }
   ],
   "source": [
    "# Distribution of content via type\n",
    "movies = df.loc[df['type'] == 'Movie']\n",
    "tv_shows = df.loc[df['type'] == 'TV Show']\n",
    "\n",
    "# Resetting index for movie & show data\n",
    "movies.reset_index(inplace=True)\n",
    "tv_shows.reset_index(inplace=True)\n",
    "\n",
    "movies.drop(['index'], axis=1, inplace=True) # Droppping 'Index' column since we just reset and created a new index.\n",
    "tv_shows.drop(['index'], axis=1, inplace=True)"
   ]
  },
  {
   "cell_type": "markdown",
   "metadata": {},
   "source": [
    "### EDA"
   ]
  },
  {
   "cell_type": "code",
   "execution_count": 656,
   "metadata": {},
   "outputs": [
    {
     "data": {
      "text/plain": [
       "['index',\n",
       " 'show_id',\n",
       " 'type',\n",
       " 'title',\n",
       " 'director',\n",
       " 'cast',\n",
       " 'country',\n",
       " 'date_added',\n",
       " 'release_year',\n",
       " 'rating',\n",
       " 'duration',\n",
       " 'listed_in',\n",
       " 'description',\n",
       " 'year_added',\n",
       " 'month_added']"
      ]
     },
     "execution_count": 656,
     "metadata": {},
     "output_type": "execute_result"
    }
   ],
   "source": [
    "# Print columns to get more aspects of the data to analyse\n",
    "list(cols) # List makes it easier to read"
   ]
  },
  {
   "cell_type": "markdown",
   "metadata": {},
   "source": [
    "#### Distribution Of Movies vs TV Shows"
   ]
  },
  {
   "cell_type": "code",
   "execution_count": 657,
   "metadata": {},
   "outputs": [
    {
     "data": {
      "text/plain": [
       "Text(0.5, 1.0, 'Movie vs TV Show - Distribution')"
      ]
     },
     "execution_count": 657,
     "metadata": {},
     "output_type": "execute_result"
    },
    {
     "data": {
      "image/png": "[encoded data removed]",
      "text/plain": [
       "<Figure size 1080x720 with 1 Axes>"
      ]
     },
     "metadata": {},
     "output_type": "display_data"
    }
   ],
   "source": [
    "# Distribution Pie\n",
    "plt.figure(figsize=(15,10))\n",
    "\n",
    "# Assign values\n",
    "movies_c = len(movies)\n",
    "tv_shows_c = len(tv_shows)\n",
    "\n",
    "labels = ['Movies', 'TV Shows']\n",
    "plt.pie([movies_c, tv_shows_c], labels=labels, colors= ['red', 'white'], wedgeprops={'edgecolor' :'black'})\n",
    "\n",
    "plt.title('Movie vs TV Show - Distribution')"
   ]
  },
  {
   "cell_type": "markdown",
   "metadata": {},
   "source": [
    "#### Content Age Ratings Distribution"
   ]
  },
  {
   "cell_type": "code",
   "execution_count": 773,
   "metadata": {},
   "outputs": [],
   "source": [
    "# Seperating data into ratings \n",
    "ratings_m = [len(movies.loc[movies['rating']== 'TV-14']), len(movies.loc[movies['rating']== 'PG-13']), len(movies.loc[movies['rating']== 'PG']), len(movies.loc[movies['rating']== 'R']),\n",
    "           len(movies.loc[movies['rating']== 'TV-PG']), len(movies.loc[movies['rating']== 'G']), len(movies.loc[movies['rating']== 'TV-Y7']), len(movies.loc[movies['rating']== 'TV-G']),\n",
    "           len(movies.loc[movies['rating']== 'TV-Y']),len(movies.loc[movies['rating']== 'NC-17']), len(movies.loc[movies['rating']== 'NR']), len(movies.loc[movies['rating']== 'TV-Y7-FV']), \n",
    "           len(movies.loc[movies['rating']== 'UR'])]\n",
    "\n",
    "ratings_tv = [len(tv_shows.loc[tv_shows['rating']== 'TV-14']), len(tv_shows.loc[tv_shows['rating']== 'PG-13']), len(tv_shows.loc[tv_shows['rating']== 'PG']), len(tv_shows.loc[tv_shows['rating']== 'R']),\n",
    "           len(tv_shows.loc[tv_shows['rating']== 'TV-PG']), len(tv_shows.loc[tv_shows['rating']== 'G']), len(tv_shows.loc[tv_shows['rating']== 'TV-Y7']), len(tv_shows.loc[tv_shows['rating']== 'TV-G']),\n",
    "           len(tv_shows.loc[tv_shows['rating']== 'TV-Y']),len(tv_shows.loc[tv_shows['rating']== 'NC-17']), len(tv_shows.loc[tv_shows['rating']== 'NR']), len(tv_shows.loc[tv_shows['rating']== 'TV-Y7-FV']), \n",
    "           len(tv_shows.loc[tv_shows['rating']== 'UR'])]\n",
    "\n",
    "total = len(df)\n",
    "ratings_name = ['TV-14', 'PG-13', 'PG', 'R', 'TV-PG', 'G', 'TV-Y7', 'TV-G', 'TV-Y', 'NC-17', 'NR', 'TV-Y7-FV', 'UR']\n",
    "\n",
    "## For this cell, NLTK Tokenizing might be better - **ammend at a later point**"
   ]
  },
  {
   "cell_type": "code",
   "execution_count": 659,
   "metadata": {},
   "outputs": [
    {
     "data": {
      "text/plain": [
       "[1214, 778, 470, 431, 275, 84, 76, 76, 58, 40, 3, 3, 2]"
      ]
     },
     "execution_count": 659,
     "metadata": {},
     "output_type": "execute_result"
    }
   ],
   "source": [
    "ratings_ordered = np.sort(ratings)[::-1]\n",
    "list(ratings_ordered)"
   ]
  },
  {
   "cell_type": "code",
   "execution_count": 797,
   "metadata": {},
   "outputs": [
    {
     "data": {
      "image/png": "[encoded data removed]",
      "text/plain": [
       "<Figure size 1440x720 with 1 Axes>"
      ]
     },
     "metadata": {
      "needs_background": "light"
     },
     "output_type": "display_data"
    }
   ],
   "source": [
    "# Bar plots\n",
    "plt.figure(figsize=(20,10))\n",
    "ax = plt.gca() # Calling 'gca()' - allowing us to change the background of the graph\n",
    "ax.set_facecolor('grey')\n",
    "\n",
    "#Plotting bar\n",
    "mov_rates = plt.bar(ratings_name, ratings_m, color=['red'], label ='Content Rating (Movies)', edgecolor='black')\n",
    "\n",
    "# Assigning labels on top of the bars\n",
    "for i in range(len(ratings_name)): # ;='for' loop allows us to assign the values on every bar in one line of code\n",
    "    plt.text(i,ratings_m[i], ratings_m[i], ha=\"center\", va=\"bottom\", color='black', fontsize='xx-large')\n",
    "    \n",
    "tv_show_rates = plt.bar(ratings_name, ratings_tv, color=['white'], label ='Content Rating (TV)', edgecolor='black')\n",
    "\n",
    "\n",
    "# Assigning labels to axes\n",
    "plt.xlabel('Content Rating')\n",
    "plt.xticks(ratings_name, rotation='vertical')\n",
    "plt.ylabel('Content Ratinga Count')\n",
    "plt.yticks()\n",
    "plt.minorticks_on()\n",
    "plt.title('Content Rating Distribution')\n",
    "plt.ylim([0,1300]) # Ammending the y axis limit\n",
    "\n",
    "# Assigning labels on top of the bars\n",
    "for i in range(len(ratings_name)): # ;='for' loop allows us to assign the values on every bar in one line of code\n",
    "    plt.text(i,ratings_tv[i], ratings_tv[i], ha=\"center\", va=\"bottom\", color='white', fontsize='xx-large')\n",
    "\n",
    "##Present Data\n",
    "plt.legend()\n",
    "plt.show()"
   ]
  },
  {
   "cell_type": "markdown",
   "metadata": {},
   "source": [
    "### Top 10 Movie Genres"
   ]
  },
  {
   "cell_type": "code",
   "execution_count": 705,
   "metadata": {},
   "outputs": [
    {
     "data": {
      "text/html": [
       "<div>\n",
       "<style scoped>\n",
       "    .dataframe tbody tr th:only-of-type {\n",
       "        vertical-align: middle;\n",
       "    }\n",
       "\n",
       "    .dataframe tbody tr th {\n",
       "        vertical-align: top;\n",
       "    }\n",
       "\n",
       "    .dataframe thead th {\n",
       "        text-align: right;\n",
       "    }\n",
       "</style>\n",
       "<table border=\"1\" class=\"dataframe\">\n",
       "  <thead>\n",
       "    <tr style=\"text-align: right;\">\n",
       "      <th></th>\n",
       "      <th>level_0</th>\n",
       "      <th>show_id</th>\n",
       "      <th>type</th>\n",
       "      <th>title</th>\n",
       "      <th>director</th>\n",
       "      <th>cast</th>\n",
       "      <th>country</th>\n",
       "      <th>date_added</th>\n",
       "      <th>release_year</th>\n",
       "      <th>rating</th>\n",
       "      <th>duration</th>\n",
       "      <th>listed_in</th>\n",
       "      <th>description</th>\n",
       "      <th>year_added</th>\n",
       "      <th>month_added</th>\n",
       "    </tr>\n",
       "  </thead>\n",
       "  <tbody>\n",
       "    <tr>\n",
       "      <th>0</th>\n",
       "      <td>0</td>\n",
       "      <td>s8</td>\n",
       "      <td>Movie</td>\n",
       "      <td>Sankofa</td>\n",
       "      <td>Haile Gerima</td>\n",
       "      <td>Kofi Ghanaba, Oyafunmike Ogunlano, Alexandra D...</td>\n",
       "      <td>United States, Ghana, Burkina Faso, United Kin...</td>\n",
       "      <td>2021-09-24</td>\n",
       "      <td>1993</td>\n",
       "      <td>TV-MA</td>\n",
       "      <td>125 min</td>\n",
       "      <td>Dramas, Independent Movies, International Movies</td>\n",
       "      <td>On a photo shoot in Ghana, an American model s...</td>\n",
       "      <td>2021</td>\n",
       "      <td>9</td>\n",
       "    </tr>\n",
       "    <tr>\n",
       "      <th>1</th>\n",
       "      <td>2</td>\n",
       "      <td>s10</td>\n",
       "      <td>Movie</td>\n",
       "      <td>The Starling</td>\n",
       "      <td>Theodore Melfi</td>\n",
       "      <td>Melissa McCarthy, Chris O'Dowd, Kevin Kline, T...</td>\n",
       "      <td>United States</td>\n",
       "      <td>2021-09-24</td>\n",
       "      <td>2021</td>\n",
       "      <td>PG-13</td>\n",
       "      <td>104 min</td>\n",
       "      <td>Comedies, Dramas</td>\n",
       "      <td>A woman adjusting to life after a loss contend...</td>\n",
       "      <td>2021</td>\n",
       "      <td>9</td>\n",
       "    </tr>\n",
       "    <tr>\n",
       "      <th>2</th>\n",
       "      <td>3</td>\n",
       "      <td>s13</td>\n",
       "      <td>Movie</td>\n",
       "      <td>Je Suis Karl</td>\n",
       "      <td>Christian Schwochow</td>\n",
       "      <td>Luna Wedler, Jannis Niewöhner, Milan Peschel, ...</td>\n",
       "      <td>Germany, Czech Republic</td>\n",
       "      <td>2021-09-23</td>\n",
       "      <td>2021</td>\n",
       "      <td>TV-MA</td>\n",
       "      <td>127 min</td>\n",
       "      <td>Dramas, International Movies</td>\n",
       "      <td>After most of her family is murdered in a terr...</td>\n",
       "      <td>2021</td>\n",
       "      <td>9</td>\n",
       "    </tr>\n",
       "  </tbody>\n",
       "</table>\n",
       "</div>"
      ],
      "text/plain": [
       "   level_0 show_id   type         title             director  \\\n",
       "0        0      s8  Movie       Sankofa         Haile Gerima   \n",
       "1        2     s10  Movie  The Starling       Theodore Melfi   \n",
       "2        3     s13  Movie  Je Suis Karl  Christian Schwochow   \n",
       "\n",
       "                                                cast  \\\n",
       "0  Kofi Ghanaba, Oyafunmike Ogunlano, Alexandra D...   \n",
       "1  Melissa McCarthy, Chris O'Dowd, Kevin Kline, T...   \n",
       "2  Luna Wedler, Jannis Niewöhner, Milan Peschel, ...   \n",
       "\n",
       "                                             country date_added  release_year  \\\n",
       "0  United States, Ghana, Burkina Faso, United Kin... 2021-09-24          1993   \n",
       "1                                      United States 2021-09-24          2021   \n",
       "2                            Germany, Czech Republic 2021-09-23          2021   \n",
       "\n",
       "  rating duration                                         listed_in  \\\n",
       "0  TV-MA  125 min  Dramas, Independent Movies, International Movies   \n",
       "1  PG-13  104 min                                  Comedies, Dramas   \n",
       "2  TV-MA  127 min                      Dramas, International Movies   \n",
       "\n",
       "                                         description  year_added  month_added  \n",
       "0  On a photo shoot in Ghana, an American model s...        2021            9  \n",
       "1  A woman adjusting to life after a loss contend...        2021            9  \n",
       "2  After most of her family is murdered in a terr...        2021            9  "
      ]
     },
     "execution_count": 705,
     "metadata": {},
     "output_type": "execute_result"
    }
   ],
   "source": [
    "movies.head(3)"
   ]
  },
  {
   "cell_type": "code",
   "execution_count": 717,
   "metadata": {},
   "outputs": [],
   "source": [
    "# We want to look at the description of the movies\n",
    "# Since we want to tokenize the words, we need to convert the column into dtye: string\n",
    "\n",
    "#This method allows you to convert the columns into one long string, as needed for the word_tokenize function\n",
    "mov_desc = movies.listed_in.str.cat(sep=' ')\n",
    "tv_desc = tv_shows.listed_in.str.cat(sep=' ')"
   ]
  },
  {
   "cell_type": "code",
   "execution_count": 718,
   "metadata": {
    "scrolled": true
   },
   "outputs": [
    {
     "data": {
      "text/plain": [
       "26882"
      ]
     },
     "execution_count": 718,
     "metadata": {},
     "output_type": "execute_result"
    }
   ],
   "source": [
    "# Now that we have the column as one long string, we can tokenize the words\n",
    "mov_desc_tokens = word_tokenize(mov_desc)\n",
    "len(mov_desc_tokens)"
   ]
  },
  {
   "cell_type": "code",
   "execution_count": 799,
   "metadata": {},
   "outputs": [
    {
     "data": {
      "text/plain": [
       "1218"
      ]
     },
     "execution_count": 799,
     "metadata": {},
     "output_type": "execute_result"
    }
   ],
   "source": [
    "tv_desc_tokens = word_tokenize(tv_desc) # \n",
    "len(tv_desc_tokens)"
   ]
  },
  {
   "cell_type": "markdown",
   "metadata": {},
   "source": [
    "#### Let's filter the tokens"
   ]
  },
  {
   "cell_type": "code",
   "execution_count": 720,
   "metadata": {},
   "outputs": [],
   "source": [
    "# We will call this variable for filtering the tokens\n",
    "stop_words = set(stopwords.words('english')) # 'english' is the default English word recognition by NLTK\n",
    "## Modify the stopwords - search it up - remove punctuation"
   ]
  },
  {
   "cell_type": "code",
   "execution_count": 721,
   "metadata": {},
   "outputs": [],
   "source": [
    "f_mov_desc_tokens = [] # Filtering Movie tokens to just English words\n",
    "for w in mov_desc_tokens:  # For loop iterates through the entire TV Show token list\n",
    "    if w not in stop_words:  # Finding any words not in the English 'Stop words'\n",
    "        f_mov_desc_tokens.append(w) # Appends the new variable with just those tokens that meeting NLTK's English tokens\n",
    "\n",
    "f_tv_desc_tokens = [] # Filtering TV-Show tokens to just English words\n",
    "for w in tv_desc_tokens: # For loop iterates through the entire TV Show token list\n",
    "    if w not in stop_words: # Finding any words not in the English 'Stop words'\n",
    "        f_tv_desc_tokens.append(w) # Appends the new variable with just those tokens that meeting NLTK's English tokens"
   ]
  },
  {
   "cell_type": "code",
   "execution_count": 722,
   "metadata": {},
   "outputs": [
    {
     "data": {
      "text/plain": [
       "26882"
      ]
     },
     "execution_count": 722,
     "metadata": {},
     "output_type": "execute_result"
    }
   ],
   "source": [
    "len(f_mov_desc_tokens)"
   ]
  },
  {
   "cell_type": "code",
   "execution_count": 801,
   "metadata": {},
   "outputs": [
    {
     "data": {
      "text/plain": [
       "1218"
      ]
     },
     "execution_count": 801,
     "metadata": {},
     "output_type": "execute_result"
    }
   ],
   "source": [
    "len(f_tv_desc_tokens)"
   ]
  },
  {
   "cell_type": "markdown",
   "metadata": {},
   "source": [
    "The length of the tokens are the same, but the non-english words or words that don't help our analysis are removed."
   ]
  },
  {
   "cell_type": "code",
   "execution_count": 802,
   "metadata": {},
   "outputs": [],
   "source": [
    "# Gathering frequency of token occurence\n",
    "\n",
    " # Variable to contain to function for this specific use\n",
    "freq_m_d_t = FreqDist() # Movies\n",
    "\n",
    "freq_tv_d_t = FreqDist() # TV Shows\n"
   ]
  },
  {
   "cell_type": "code",
   "execution_count": 803,
   "metadata": {},
   "outputs": [
    {
     "data": {
      "text/plain": [
       "FreqDist({',': 6306, 'movies': 4960, 'international': 2369, 'dramas': 2293, '&': 1895, 'comedies': 1553, 'action': 806, 'adventure': 806, 'independent': 740, 'romantic': 579, ...})"
      ]
     },
     "execution_count": 803,
     "metadata": {},
     "output_type": "execute_result"
    }
   ],
   "source": [
    "# Loop to count occurence of each token - Movies\n",
    "for word in f_mov_desc_tokens:\n",
    "    freq_m_d_t[word.lower()]+=1 # \"+=1\" - increases count of each occurence by 1\n",
    "freq_m_d_t "
   ]
  },
  {
   "cell_type": "code",
   "execution_count": 804,
   "metadata": {},
   "outputs": [
    {
     "data": {
      "text/plain": [
       "29"
      ]
     },
     "execution_count": 804,
     "metadata": {},
     "output_type": "execute_result"
    }
   ],
   "source": [
    "#Length of the unique values in the description \n",
    "# Movie tokens\n",
    "len(freq_m_d_t)"
   ]
  },
  {
   "cell_type": "code",
   "execution_count": 805,
   "metadata": {},
   "outputs": [
    {
     "data": {
      "text/plain": [
       "FreqDist({'tv': 332, ',': 220, 'shows': 206, 'international': 87, 'dramas': 52, 'crime': 38, '&': 32, 'comedies': 30, 'british': 21, 'romantic': 21, ...})"
      ]
     },
     "execution_count": 805,
     "metadata": {},
     "output_type": "execute_result"
    }
   ],
   "source": [
    "# Loop to count occurence of each token - Movies\n",
    "for word in tv_desc_tokens:\n",
    "    freq_tv_d_t[word.lower()]+=1\n",
    "freq_tv_d_t"
   ]
  },
  {
   "cell_type": "code",
   "execution_count": 806,
   "metadata": {},
   "outputs": [
    {
     "data": {
      "text/plain": [
       "33"
      ]
     },
     "execution_count": 806,
     "metadata": {},
     "output_type": "execute_result"
    }
   ],
   "source": [
    "#Length of the unique values in the description \n",
    "# TV Show tokens\n",
    "len(freq_tv_d_t)"
   ]
  },
  {
   "cell_type": "markdown",
   "metadata": {},
   "source": [
    "      TOTAL TOKENS       \n",
    "      _________________\n",
    "    - Movies : 26882   \n",
    "    - TV Shows : 1218  \n",
    "    \n",
    "      UNIQUE TOKENS          \n",
    "      _________________\n",
    "    - Movies : 29        \n",
    "    - TV Shows : 33  "
   ]
  },
  {
   "cell_type": "code",
   "execution_count": 807,
   "metadata": {},
   "outputs": [
    {
     "data": {
      "text/plain": [
       "[(',', 6306),\n",
       " ('movies', 4960),\n",
       " ('international', 2369),\n",
       " ('dramas', 2293),\n",
       " ('&', 1895),\n",
       " ('comedies', 1553),\n",
       " ('action', 806),\n",
       " ('adventure', 806),\n",
       " ('independent', 740),\n",
       " ('romantic', 579),\n",
       " ('thrillers', 547),\n",
       " ('children', 503),\n",
       " ('family', 503),\n",
       " ('documentaries', 391),\n",
       " ('horror', 336),\n",
       " ('stand-up', 294)]"
      ]
     },
     "execution_count": 807,
     "metadata": {},
     "output_type": "execute_result"
    }
   ],
   "source": [
    "# Variable to store the top 'x' most common tokens\n",
    "freq_mdt_t10 = freq_m_d_t.most_common(16)\n",
    "freq_mdt_t10"
   ]
  },
  {
   "cell_type": "code",
   "execution_count": 808,
   "metadata": {},
   "outputs": [
    {
     "data": {
      "text/plain": [
       "[('tv', 332),\n",
       " (',', 220),\n",
       " ('shows', 206),\n",
       " ('international', 87),\n",
       " ('dramas', 52),\n",
       " ('crime', 38),\n",
       " ('&', 32),\n",
       " ('comedies', 30),\n",
       " ('british', 21),\n",
       " ('romantic', 21),\n",
       " ('docuseries', 14),\n",
       " ('action', 13),\n",
       " ('adventure', 13),\n",
       " ('kids', 13),\n",
       " (\"'\", 13),\n",
       " ('stand-up', 11)]"
      ]
     },
     "execution_count": 808,
     "metadata": {},
     "output_type": "execute_result"
    }
   ],
   "source": [
    "freq_tvdt_t10 = freq_tv_d_t.most_common(16)\n",
    "freq_tvdt_t10"
   ]
  },
  {
   "cell_type": "markdown",
   "metadata": {},
   "source": [
    "We can focus on actual genres, the genres we're going to plot are:\n",
    "\n",
    "      MOVIES                  TV SHOWS\n",
    "      ____________________________________\n",
    "    - International: 2369   - International: 87  \n",
    "    - Dramas : 2293         - Dramas : 52\n",
    "    - Comedy : 1553         - Crime : 38\n",
    "    - Action : 806          - Comedy : 30\n",
    "    - Adventure : 806       - British : 21\n",
    "    - Romantic : 579        - Romantic : 21\n",
    "    - Thrillers : 547       - Docuseries : 14\n",
    "    - Family : 503          - Action : 13\n",
    "    - Documentaries : 391   - Adventure : 13\n",
    "    - Horror : 336          - Kids : 13\n",
    "    \n",
    "We can ignore some of the values since they aren't genres..."
   ]
  },
  {
   "cell_type": "code",
   "execution_count": 809,
   "metadata": {},
   "outputs": [
    {
     "data": {
      "image/png": "[encoded data removed]",
      "text/plain": [
       "<Figure size 1080x360 with 1 Axes>"
      ]
     },
     "metadata": {
      "needs_background": "light"
     },
     "output_type": "display_data"
    }
   ],
   "source": [
    "# Plotting 1st Bar Graph - Movie Genres\n",
    "\n",
    "# Contain values\n",
    "mov_genres_x = ['International', 'Dramas', 'Comedy', 'Action', 'Adventure', 'Romantic', 'Thrillers', 'Family', 'Documentaries', 'Horror']\n",
    "mov_values_y = [2369,2293,1553,806,806,579,547,503,391,336]\n",
    "\n",
    "# Set bar size and background\n",
    "plt.figure(figsize=(15,5))\n",
    "ax = plt.gca() # Calling 'gca()' - allowing us to change the background of the graph\n",
    "ax.set_facecolor('grey')\n",
    "\n",
    "# Plot data\n",
    "mov_bar_genre_freq10 = plt.bar(mov_genres_x, mov_values_y, label = 'Top 10 Genres (Movies)', color =['red','white'], edgecolor=['black'])\n",
    "\n",
    "# Assigning values to graph axes\n",
    "plt.yticks()\n",
    "plt.ylabel('Genre Count')\n",
    "plt.xticks(mov_genres_x, rotation= 'vertical')\n",
    "plt.xlabel('Movie Genres')\n",
    "plt.minorticks_on()\n",
    "plt.title('Top-10 Netflix Movie Genres')\n",
    "plt.ylim([0,2600]) # Ammending the y axis limit\n",
    "\n",
    "# Assigning labels on top of the bars\n",
    "for i in range(len(mov_genres_x)): # ;='for' loop allows us to assign the values on every bar in one line of code\n",
    "    plt.text(i,mov_values_y[i], mov_values_y[i], ha=\"center\", va=\"bottom\", color='black', fontsize='large')\n",
    "\n"
   ]
  },
  {
   "cell_type": "code",
   "execution_count": 810,
   "metadata": {},
   "outputs": [
    {
     "data": {
      "image/png": "[encoded data removed]",
      "text/plain": [
       "<Figure size 1080x360 with 1 Axes>"
      ]
     },
     "metadata": {
      "needs_background": "light"
     },
     "output_type": "display_data"
    }
   ],
   "source": [
    "# Plotting 2nd Bar Graph - TV Show Genres\n",
    "\n",
    "# Contain Values\n",
    "tvs_genres_x = ['International','Dramas','Crime','Comedy','British','Romantic','Docuseries','Action','Adventure','Kids']\n",
    "tvs_values_y = [87,52, 38, 30, 21, 21, 14, 13, 13, 13]\n",
    "\n",
    "# Setgraph size and background\n",
    "plt.figure(figsize=(15,5))\n",
    "ax = plt.gca() # Calling 'gca()' - allowing us to change the background of the graph\n",
    "ax.set_facecolor('grey')\n",
    "\n",
    "# Plot graph\n",
    "tv_bar_genre_freq10 = plt.bar(tvs_genres_x, tvs_values_y, label = 'Top 10 Genres (TV Shows)', color =['red','white'], edgecolor=['black'])\n",
    "\n",
    "# Assigning values to graph axes\n",
    "plt.yticks()\n",
    "plt.ylabel('Genre Count')\n",
    "plt.xticks(tvs_genres_x, rotation= 'vertical')\n",
    "plt.xlabel('TV Show Genres')\n",
    "plt.minorticks_on()\n",
    "plt.title('Top-10 Netflix TV Shows Genres')\n",
    "plt.ylim([0,95]) # Ammending the y axis limit\n",
    "\n",
    "# Assigning labels on top of the bars\n",
    "for i in range(len(tvs_genres_x)): # ;='for' loop allows us to assign the values on every bar in one line of code\n",
    "    plt.text(i, tvs_values_y[i], tvs_values_y[i], ha=\"center\", va=\"bottom\", color='black', fontsize='large')\n",
    "    \n",
    "##Present Data\n",
    "plt.legend()\n",
    "plt.show(mov_bar_genre_freq10,  tv_bar_genre_freq10)\n"
   ]
  },
  {
   "cell_type": "markdown",
   "metadata": {},
   "source": [
    "### Content By Country"
   ]
  },
  {
   "cell_type": "code",
   "execution_count": 811,
   "metadata": {},
   "outputs": [],
   "source": [
    "# Extracting Country Data\n",
    "countries_m = movies['country']\n",
    "countries_tv = tv_shows['country']"
   ]
  },
  {
   "cell_type": "code",
   "execution_count": 812,
   "metadata": {},
   "outputs": [],
   "source": [
    "# Convert both to strings\n",
    "countries_m_s = countries_m.str.cat(sep=' ')\n",
    "countries_tv_s = countries_tv.str.cat(sep=' ') # split by the comma after country"
   ]
  },
  {
   "cell_type": "code",
   "execution_count": 813,
   "metadata": {},
   "outputs": [],
   "source": [
    "# Splitting strings into names \n",
    "countries_m_s_split = countries_m_s.split(',') # The split() function is better for this situation, tokenize would tokenize the first\n",
    "countries_tv_s_split = countries_tv_s.split(',') # and last names of the actors - not helpful for this analysis."
   ]
  },
  {
   "cell_type": "code",
   "execution_count": 814,
   "metadata": {},
   "outputs": [],
   "source": [
    "stop_words = set(stopwords.words(\"english\"))"
   ]
  },
  {
   "cell_type": "markdown",
   "metadata": {},
   "source": [
    "#### Get help from Shanghua ^^^\n"
   ]
  },
  {
   "cell_type": "code",
   "execution_count": 815,
   "metadata": {},
   "outputs": [],
   "source": [
    "# Countries, Movies - Filter\n",
    "filt_countries_ms = []\n",
    "for w in countries_m_s_split:\n",
    "    if w not in stop_words:\n",
    "        filt_countries_ms.append(w)\n",
    "        \n",
    "# Countries, Movies = Filter\n",
    "filt_countries_tvs = []\n",
    "\n",
    "for w in countries_tv_s_split:\n",
    "    if w not in stop_words:\n",
    "        filt_countries_tvs.append(w)"
   ]
  },
  {
   "cell_type": "markdown",
   "metadata": {},
   "source": [
    "### EDA On Actor Data \n",
    "\n",
    "#### *find new title for this segment*"
   ]
  },
  {
   "cell_type": "code",
   "execution_count": 816,
   "metadata": {},
   "outputs": [],
   "source": [
    "# Extracting cast data\n",
    "actors_m = movies['cast']\n",
    "actors_tv = tv_shows['cast']"
   ]
  },
  {
   "cell_type": "code",
   "execution_count": 817,
   "metadata": {},
   "outputs": [],
   "source": [
    "# Convert data into a str\n",
    "actors_m_s = actors_m.str.cat(sep=' ')\n",
    "actors_tv_s = actors_tv.str.cat(sep=' ')"
   ]
  },
  {
   "cell_type": "code",
   "execution_count": 818,
   "metadata": {},
   "outputs": [],
   "source": [
    "# Splitting strings into names \n",
    "actors_m_s_split = actors_m_s.split(',') # The split() function is better for this situation, tokenize would tokenize the first\n",
    "actors_tv_s_split = actors_tv_s.split(',') # and last names of the actors - not helpful for this analysis."
   ]
  },
  {
   "cell_type": "code",
   "execution_count": 819,
   "metadata": {
    "scrolled": false
   },
   "outputs": [],
   "source": [
    "# Movie Actors - Filter\n",
    "filt_actors_ms = []\n",
    "\n",
    "for w in actors_m_s_split:\n",
    "    if w not in stop_words:\n",
    "        filt_actors_ms.append(w)\n",
    "        \n",
    "# TV Actors - Filter\n",
    "filt_actors_tvs = []\n",
    "\n",
    "for w in actors_tv_s_split:\n",
    "    if w not in stop_words:\n",
    "        filt_actors_tvs.append(w)"
   ]
  },
  {
   "cell_type": "code",
   "execution_count": 820,
   "metadata": {},
   "outputs": [],
   "source": [
    " # Assign FreqDist() function to a variable to store the most common actors for TV Shows and Movies\n",
    "freq_actors_m = FreqDist()\n",
    "freq_actors_tv = FreqDist()"
   ]
  },
  {
   "cell_type": "code",
   "execution_count": 821,
   "metadata": {},
   "outputs": [],
   "source": [
    "# Counting actor appearances - Movies\n",
    "for word in filt_actors_tvs:\n",
    "    freq_actors_m[word.lower()]+=1\n",
    "\n",
    "# Counting actor appearances - TV Shows\n",
    "for word in filt_countries_tvs:\n",
    "    freq_actors_tv[word.lower()]+=1\n"
   ]
  },
  {
   "cell_type": "code",
   "execution_count": 822,
   "metadata": {},
   "outputs": [
    {
     "data": {
      "text/plain": [
       "[(' maxi iglesias', 2),\n",
       " (' prakash raj', 2),\n",
       " (' gautham vasudev menon', 2),\n",
       " (' anjali', 2),\n",
       " (' john boyega', 2),\n",
       " (' hsia teng-hung', 2),\n",
       " (' katie mcgrath', 2),\n",
       " (' young dais', 2),\n",
       " (' river huang', 2),\n",
       " (' bae doona', 2)]"
      ]
     },
     "execution_count": 822,
     "metadata": {},
     "output_type": "execute_result"
    }
   ],
   "source": [
    "# Most common actors - Movies\n",
    "freq_mact_t10 = freq_actors_m.most_common(10)\n",
    "\n",
    "# Most common actors - TV Shows\n",
    "freq_tvact_t10 = freq_actors_tv.most_common(10)\n",
    "freq_mact_t10"
   ]
  },
  {
   "cell_type": "markdown",
   "metadata": {},
   "source": [
    "#### Create a stacked bar chart:\n",
    "\n",
    "Look at the most commonly appreating actors (top 10) on Netlix's platform and then look at the actual top 10 actors from IDMB.\n",
    "\n",
    "\n",
    "This will allow us to see how many times the actual top 10 actors appear on Netlix's platform"
   ]
  },
  {
   "cell_type": "code",
   "execution_count": null,
   "metadata": {},
   "outputs": [],
   "source": []
  },
  {
   "cell_type": "markdown",
   "metadata": {},
   "source": [
    "## Recommendation System - NLTK"
   ]
  },
  {
   "cell_type": "markdown",
   "metadata": {},
   "source": [
    "In this section we will be creating an algorithm that recommends movies and shows, relevant to what the viewer is watching."
   ]
  },
  {
   "cell_type": "code",
   "execution_count": 689,
   "metadata": {},
   "outputs": [],
   "source": [
    "# Calling Movie & TV Show data\n",
    "## We will only require some of the data here, so we'll slice it further\n",
    "movies_rec = movies[['title','director','country','listed_in', 'description']]"
   ]
  },
  {
   "cell_type": "code",
   "execution_count": null,
   "metadata": {},
   "outputs": [],
   "source": []
  },
  {
   "cell_type": "code",
   "execution_count": null,
   "metadata": {},
   "outputs": [],
   "source": []
  }
 ],
 "metadata": {
  "kernelspec": {
   "display_name": "Python 3",
   "language": "python",
   "name": "python3"
  },
  "language_info": {
   "codemirror_mode": {
    "name": "ipython",
    "version": 3
   },
   "file_extension": ".py",
   "mimetype": "text/x-python",
   "name": "python",
   "nbconvert_exporter": "python",
   "pygments_lexer": "ipython3",
   "version": "3.7.3"
  }
 },
 "nbformat": 4,
 "nbformat_minor": 2
}
