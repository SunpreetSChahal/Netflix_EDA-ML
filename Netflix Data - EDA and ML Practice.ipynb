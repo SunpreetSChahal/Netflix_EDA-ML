{
 "cells": [
  {
   "cell_type": "markdown",
   "metadata": {},
   "source": [
    "# Netflix Shows & Movies EDA\n",
    "\n",
    "#### Within this notebook I will cover:\n",
    "- Understanding what content is available in different countries\n",
    "- Identifying similar content by matching text-based features\n",
    "- Network analysis of Actors / Directors and find interesting insights\n",
    "- Does Netflix has more focus on TV Shows than movies in recent years."
   ]
  },
  {
   "cell_type": "code",
   "execution_count": 2,
   "metadata": {},
   "outputs": [],
   "source": [
    "import math\n",
    "import pandas as pd\n",
    "import matplotlib.pyplot as plt\n",
    "import statsmodels.api as sm\n",
    "import numpy as np\n",
    "from sklearn.linear_model import LinearRegression\n",
    "from sklearn.linear_model import LogisticRegression\n",
    "import joblib\n",
    "## Also import Make Regression from SkLearn - https://www.codespeedy.com/make_regression-function-in-sklearn-with-python/#:~:text=make_regression%20%28%29%20function%20in%20scikit%20learn%20It%20is,in%20python%20below.%20Code%20in%20Python%20programming%20language"
   ]
  },
  {
   "cell_type": "code",
   "execution_count": 3,
   "metadata": {},
   "outputs": [
    {
     "data": {
      "text/html": [
       "<div>\n",
       "<style scoped>\n",
       "    .dataframe tbody tr th:only-of-type {\n",
       "        vertical-align: middle;\n",
       "    }\n",
       "\n",
       "    .dataframe tbody tr th {\n",
       "        vertical-align: top;\n",
       "    }\n",
       "\n",
       "    .dataframe thead th {\n",
       "        text-align: right;\n",
       "    }\n",
       "</style>\n",
       "<table border=\"1\" class=\"dataframe\">\n",
       "  <thead>\n",
       "    <tr style=\"text-align: right;\">\n",
       "      <th></th>\n",
       "      <th>show_id</th>\n",
       "      <th>type</th>\n",
       "      <th>title</th>\n",
       "      <th>director</th>\n",
       "      <th>cast</th>\n",
       "      <th>country</th>\n",
       "      <th>date_added</th>\n",
       "      <th>release_year</th>\n",
       "      <th>rating</th>\n",
       "      <th>duration</th>\n",
       "      <th>listed_in</th>\n",
       "      <th>description</th>\n",
       "    </tr>\n",
       "  </thead>\n",
       "  <tbody>\n",
       "    <tr>\n",
       "      <th>0</th>\n",
       "      <td>s1</td>\n",
       "      <td>Movie</td>\n",
       "      <td>Dick Johnson Is Dead</td>\n",
       "      <td>Kirsten Johnson</td>\n",
       "      <td>NaN</td>\n",
       "      <td>United States</td>\n",
       "      <td>September 25, 2021</td>\n",
       "      <td>2020</td>\n",
       "      <td>PG-13</td>\n",
       "      <td>90 min</td>\n",
       "      <td>Documentaries</td>\n",
       "      <td>As her father nears the end of his life, filmm...</td>\n",
       "    </tr>\n",
       "    <tr>\n",
       "      <th>1</th>\n",
       "      <td>s2</td>\n",
       "      <td>TV Show</td>\n",
       "      <td>Blood &amp; Water</td>\n",
       "      <td>NaN</td>\n",
       "      <td>Ama Qamata, Khosi Ngema, Gail Mabalane, Thaban...</td>\n",
       "      <td>South Africa</td>\n",
       "      <td>September 24, 2021</td>\n",
       "      <td>2021</td>\n",
       "      <td>TV-MA</td>\n",
       "      <td>2 Seasons</td>\n",
       "      <td>International TV Shows, TV Dramas, TV Mysteries</td>\n",
       "      <td>After crossing paths at a party, a Cape Town t...</td>\n",
       "    </tr>\n",
       "    <tr>\n",
       "      <th>2</th>\n",
       "      <td>s3</td>\n",
       "      <td>TV Show</td>\n",
       "      <td>Ganglands</td>\n",
       "      <td>Julien Leclercq</td>\n",
       "      <td>Sami Bouajila, Tracy Gotoas, Samuel Jouy, Nabi...</td>\n",
       "      <td>NaN</td>\n",
       "      <td>September 24, 2021</td>\n",
       "      <td>2021</td>\n",
       "      <td>TV-MA</td>\n",
       "      <td>1 Season</td>\n",
       "      <td>Crime TV Shows, International TV Shows, TV Act...</td>\n",
       "      <td>To protect his family from a powerful drug lor...</td>\n",
       "    </tr>\n",
       "    <tr>\n",
       "      <th>3</th>\n",
       "      <td>s4</td>\n",
       "      <td>TV Show</td>\n",
       "      <td>Jailbirds New Orleans</td>\n",
       "      <td>NaN</td>\n",
       "      <td>NaN</td>\n",
       "      <td>NaN</td>\n",
       "      <td>September 24, 2021</td>\n",
       "      <td>2021</td>\n",
       "      <td>TV-MA</td>\n",
       "      <td>1 Season</td>\n",
       "      <td>Docuseries, Reality TV</td>\n",
       "      <td>Feuds, flirtations and toilet talk go down amo...</td>\n",
       "    </tr>\n",
       "    <tr>\n",
       "      <th>4</th>\n",
       "      <td>s5</td>\n",
       "      <td>TV Show</td>\n",
       "      <td>Kota Factory</td>\n",
       "      <td>NaN</td>\n",
       "      <td>Mayur More, Jitendra Kumar, Ranjan Raj, Alam K...</td>\n",
       "      <td>India</td>\n",
       "      <td>September 24, 2021</td>\n",
       "      <td>2021</td>\n",
       "      <td>TV-MA</td>\n",
       "      <td>2 Seasons</td>\n",
       "      <td>International TV Shows, Romantic TV Shows, TV ...</td>\n",
       "      <td>In a city of coaching centers known to train I...</td>\n",
       "    </tr>\n",
       "  </tbody>\n",
       "</table>\n",
       "</div>"
      ],
      "text/plain": [
       "  show_id     type                  title         director  \\\n",
       "0      s1    Movie   Dick Johnson Is Dead  Kirsten Johnson   \n",
       "1      s2  TV Show          Blood & Water              NaN   \n",
       "2      s3  TV Show              Ganglands  Julien Leclercq   \n",
       "3      s4  TV Show  Jailbirds New Orleans              NaN   \n",
       "4      s5  TV Show           Kota Factory              NaN   \n",
       "\n",
       "                                                cast        country  \\\n",
       "0                                                NaN  United States   \n",
       "1  Ama Qamata, Khosi Ngema, Gail Mabalane, Thaban...   South Africa   \n",
       "2  Sami Bouajila, Tracy Gotoas, Samuel Jouy, Nabi...            NaN   \n",
       "3                                                NaN            NaN   \n",
       "4  Mayur More, Jitendra Kumar, Ranjan Raj, Alam K...          India   \n",
       "\n",
       "           date_added  release_year rating   duration  \\\n",
       "0  September 25, 2021          2020  PG-13     90 min   \n",
       "1  September 24, 2021          2021  TV-MA  2 Seasons   \n",
       "2  September 24, 2021          2021  TV-MA   1 Season   \n",
       "3  September 24, 2021          2021  TV-MA   1 Season   \n",
       "4  September 24, 2021          2021  TV-MA  2 Seasons   \n",
       "\n",
       "                                           listed_in  \\\n",
       "0                                      Documentaries   \n",
       "1    International TV Shows, TV Dramas, TV Mysteries   \n",
       "2  Crime TV Shows, International TV Shows, TV Act...   \n",
       "3                             Docuseries, Reality TV   \n",
       "4  International TV Shows, Romantic TV Shows, TV ...   \n",
       "\n",
       "                                         description  \n",
       "0  As her father nears the end of his life, filmm...  \n",
       "1  After crossing paths at a party, a Cape Town t...  \n",
       "2  To protect his family from a powerful drug lor...  \n",
       "3  Feuds, flirtations and toilet talk go down amo...  \n",
       "4  In a city of coaching centers known to train I...  "
      ]
     },
     "execution_count": 3,
     "metadata": {},
     "output_type": "execute_result"
    }
   ],
   "source": [
    "df = pd.read_csv(r\"C:\\Users\\ssc44611\\Documents\\L4 Projects\\1. Netflix (Personal Proj) - ML Focus\\netflix_titles.csv\")\n",
    "df.head()"
   ]
  },
  {
   "cell_type": "code",
   "execution_count": 4,
   "metadata": {},
   "outputs": [
    {
     "data": {
      "text/plain": [
       "(8807, 12)"
      ]
     },
     "execution_count": 4,
     "metadata": {},
     "output_type": "execute_result"
    }
   ],
   "source": [
    "df.shape"
   ]
  },
  {
   "cell_type": "markdown",
   "metadata": {},
   "source": [
    "#### Manipulation"
   ]
  },
  {
   "cell_type": "code",
   "execution_count": 5,
   "metadata": {},
   "outputs": [
    {
     "data": {
      "text/plain": [
       "['show_id',\n",
       " 'type',\n",
       " 'title',\n",
       " 'director',\n",
       " 'cast',\n",
       " 'country',\n",
       " 'date_added',\n",
       " 'release_year',\n",
       " 'rating',\n",
       " 'duration',\n",
       " 'listed_in',\n",
       " 'description']"
      ]
     },
     "execution_count": 5,
     "metadata": {},
     "output_type": "execute_result"
    }
   ],
   "source": [
    "# Make columns callable for future reference\n",
    "cols = df.columns\n",
    "list(cols)"
   ]
  },
  {
   "cell_type": "code",
   "execution_count": 6,
   "metadata": {},
   "outputs": [
    {
     "data": {
      "text/plain": [
       "show_id            0\n",
       "type               0\n",
       "title              0\n",
       "director        2634\n",
       "cast             825\n",
       "country          831\n",
       "date_added        10\n",
       "release_year       0\n",
       "rating             4\n",
       "duration           3\n",
       "listed_in          0\n",
       "description        0\n",
       "dtype: int64"
      ]
     },
     "execution_count": 6,
     "metadata": {},
     "output_type": "execute_result"
    }
   ],
   "source": [
    "# Count amount of null values\n",
    "df.isnull().sum()"
   ]
  },
  {
   "cell_type": "code",
   "execution_count": 7,
   "metadata": {},
   "outputs": [],
   "source": [
    "# Converting date-related data into datetime, to make it formatted to refer to for analysis\n",
    "# Creating 2 new columns - Year & month, to open more analysis opportunities and more perspectives of date analysis\n",
    "df['date_added'] = pd.to_datetime(df['date_added'])\n",
    "df['year_added'] = df['date_added'].dt.year\n",
    "df['month_added'] = df['date_added'].dt.month\n",
    "\n",
    "# We want to move the columns since the new date columns are at the end \n",
    "# Having simillar data next to each other makes it easier to refer to}\n",
    "d_a = df['date_added']\n",
    "r_y = df['release_year']\n",
    "moving_cols = ['r_y', 'd_a']\n",
    "\n",
    "df = df[[c for c in df if c not in moving_cols] # You can manually write out the columns in the order you want\n",
    "        + [c for c in moving_cols if c in df]] # This method save time - better for larger datasets"
   ]
  },
  {
   "cell_type": "code",
   "execution_count": 8,
   "metadata": {},
   "outputs": [],
   "source": [
    "df_nona = df.copy()\n",
    "cols_redux = df_nona.columns # New variable containing updated columns"
   ]
  },
  {
   "cell_type": "code",
   "execution_count": 9,
   "metadata": {},
   "outputs": [
    {
     "data": {
      "text/plain": [
       "(5332, 14)"
      ]
     },
     "execution_count": 9,
     "metadata": {},
     "output_type": "execute_result"
    }
   ],
   "source": [
    "df_nona.dropna().shape"
   ]
  },
  {
   "cell_type": "markdown",
   "metadata": {},
   "source": [
    "## EDA"
   ]
  },
  {
   "cell_type": "code",
   "execution_count": 10,
   "metadata": {},
   "outputs": [
    {
     "data": {
      "text/html": [
       "<div>\n",
       "<style scoped>\n",
       "    .dataframe tbody tr th:only-of-type {\n",
       "        vertical-align: middle;\n",
       "    }\n",
       "\n",
       "    .dataframe tbody tr th {\n",
       "        vertical-align: top;\n",
       "    }\n",
       "\n",
       "    .dataframe thead th {\n",
       "        text-align: right;\n",
       "    }\n",
       "</style>\n",
       "<table border=\"1\" class=\"dataframe\">\n",
       "  <thead>\n",
       "    <tr style=\"text-align: right;\">\n",
       "      <th></th>\n",
       "      <th>show_id</th>\n",
       "      <th>type</th>\n",
       "      <th>title</th>\n",
       "      <th>director</th>\n",
       "      <th>cast</th>\n",
       "      <th>country</th>\n",
       "      <th>date_added</th>\n",
       "      <th>release_year</th>\n",
       "      <th>rating</th>\n",
       "      <th>duration</th>\n",
       "      <th>listed_in</th>\n",
       "      <th>description</th>\n",
       "      <th>year_added</th>\n",
       "      <th>month_added</th>\n",
       "    </tr>\n",
       "  </thead>\n",
       "  <tbody>\n",
       "    <tr>\n",
       "      <th>0</th>\n",
       "      <td>s1</td>\n",
       "      <td>Movie</td>\n",
       "      <td>Dick Johnson Is Dead</td>\n",
       "      <td>Kirsten Johnson</td>\n",
       "      <td>NaN</td>\n",
       "      <td>United States</td>\n",
       "      <td>2021-09-25</td>\n",
       "      <td>2020</td>\n",
       "      <td>PG-13</td>\n",
       "      <td>90 min</td>\n",
       "      <td>Documentaries</td>\n",
       "      <td>As her father nears the end of his life, filmm...</td>\n",
       "      <td>2021.0</td>\n",
       "      <td>9.0</td>\n",
       "    </tr>\n",
       "    <tr>\n",
       "      <th>1</th>\n",
       "      <td>s2</td>\n",
       "      <td>TV Show</td>\n",
       "      <td>Blood &amp; Water</td>\n",
       "      <td>NaN</td>\n",
       "      <td>Ama Qamata, Khosi Ngema, Gail Mabalane, Thaban...</td>\n",
       "      <td>South Africa</td>\n",
       "      <td>2021-09-24</td>\n",
       "      <td>2021</td>\n",
       "      <td>TV-MA</td>\n",
       "      <td>2 Seasons</td>\n",
       "      <td>International TV Shows, TV Dramas, TV Mysteries</td>\n",
       "      <td>After crossing paths at a party, a Cape Town t...</td>\n",
       "      <td>2021.0</td>\n",
       "      <td>9.0</td>\n",
       "    </tr>\n",
       "    <tr>\n",
       "      <th>2</th>\n",
       "      <td>s3</td>\n",
       "      <td>TV Show</td>\n",
       "      <td>Ganglands</td>\n",
       "      <td>Julien Leclercq</td>\n",
       "      <td>Sami Bouajila, Tracy Gotoas, Samuel Jouy, Nabi...</td>\n",
       "      <td>NaN</td>\n",
       "      <td>2021-09-24</td>\n",
       "      <td>2021</td>\n",
       "      <td>TV-MA</td>\n",
       "      <td>1 Season</td>\n",
       "      <td>Crime TV Shows, International TV Shows, TV Act...</td>\n",
       "      <td>To protect his family from a powerful drug lor...</td>\n",
       "      <td>2021.0</td>\n",
       "      <td>9.0</td>\n",
       "    </tr>\n",
       "  </tbody>\n",
       "</table>\n",
       "</div>"
      ],
      "text/plain": [
       "  show_id     type                 title         director  \\\n",
       "0      s1    Movie  Dick Johnson Is Dead  Kirsten Johnson   \n",
       "1      s2  TV Show         Blood & Water              NaN   \n",
       "2      s3  TV Show             Ganglands  Julien Leclercq   \n",
       "\n",
       "                                                cast        country  \\\n",
       "0                                                NaN  United States   \n",
       "1  Ama Qamata, Khosi Ngema, Gail Mabalane, Thaban...   South Africa   \n",
       "2  Sami Bouajila, Tracy Gotoas, Samuel Jouy, Nabi...            NaN   \n",
       "\n",
       "  date_added  release_year rating   duration  \\\n",
       "0 2021-09-25          2020  PG-13     90 min   \n",
       "1 2021-09-24          2021  TV-MA  2 Seasons   \n",
       "2 2021-09-24          2021  TV-MA   1 Season   \n",
       "\n",
       "                                           listed_in  \\\n",
       "0                                      Documentaries   \n",
       "1    International TV Shows, TV Dramas, TV Mysteries   \n",
       "2  Crime TV Shows, International TV Shows, TV Act...   \n",
       "\n",
       "                                         description  year_added  month_added  \n",
       "0  As her father nears the end of his life, filmm...      2021.0          9.0  \n",
       "1  After crossing paths at a party, a Cape Town t...      2021.0          9.0  \n",
       "2  To protect his family from a powerful drug lor...      2021.0          9.0  "
      ]
     },
     "execution_count": 10,
     "metadata": {},
     "output_type": "execute_result"
    }
   ],
   "source": [
    "df_nona.head(3)"
   ]
  },
  {
   "cell_type": "code",
   "execution_count": 11,
   "metadata": {},
   "outputs": [
    {
     "data": {
      "text/plain": [
       "['show_id',\n",
       " 'type',\n",
       " 'title',\n",
       " 'director',\n",
       " 'cast',\n",
       " 'country',\n",
       " 'date_added',\n",
       " 'release_year',\n",
       " 'rating',\n",
       " 'duration',\n",
       " 'listed_in',\n",
       " 'description',\n",
       " 'year_added',\n",
       " 'month_added']"
      ]
     },
     "execution_count": 11,
     "metadata": {},
     "output_type": "execute_result"
    }
   ],
   "source": [
    "# Print columns to get more aspects of the data to analyse\n",
    "list(cols_redux) # List makes it easier to read"
   ]
  },
  {
   "cell_type": "markdown",
   "metadata": {},
   "source": [
    "### TV Shows vs Movies - Distribution & C.O.T"
   ]
  },
  {
   "cell_type": "code",
   "execution_count": 12,
   "metadata": {},
   "outputs": [],
   "source": [
    "# Distribution of content via type\n",
    "movies = df_nona.loc[df_nona['type'] == 'Movie']\n",
    "movies_c = movies.shape[0]\n",
    "tv_shows = df_nona.loc[df_nona['type'] == 'TV Show']\n",
    "tv_shows_c = tv_shows.shape[0]"
   ]
  },
  {
   "cell_type": "code",
   "execution_count": 13,
   "metadata": {},
   "outputs": [
    {
     "data": {
      "text/plain": [
       "([<matplotlib.patches.Wedge at 0x2bb1896e5f8>,\n",
       "  <matplotlib.patches.Wedge at 0x2bb1896eb00>],\n",
       " [Text(-0.6357552620136555, 0.897672126570692, 'movies'),\n",
       "  Text(0.6357552620136554, -0.8976721265706921, 'tv_shows')])"
      ]
     },
     "execution_count": 13,
     "metadata": {},
     "output_type": "execute_result"
    },
    {
     "data": {
      "image/png": "[encoded data removed]",
      "text/plain": [
       "<Figure size 720x360 with 1 Axes>"
      ]
     },
     "metadata": {},
     "output_type": "display_data"
    }
   ],
   "source": [
    "# Distribution Pie\n",
    "plt.figure(figsize= (10,5))\n",
    "labels = ['movies', 'tv_shows']\n",
    "plt.pie([movies_c, tv_shows_c], labels=labels)"
   ]
  },
  {
   "cell_type": "code",
   "execution_count": 14,
   "metadata": {},
   "outputs": [
    {
     "data": {
      "text/plain": [
       "array([1925, 1942, 1943, 1944, 1945, 1946, 1947, 1954, 1955, 1956, 1958,\n",
       "       1959, 1960, 1961, 1962, 1963, 1964, 1965, 1966, 1967, 1968, 1969,\n",
       "       1970, 1971, 1972, 1973, 1974, 1975, 1976, 1977, 1978, 1979, 1980,\n",
       "       1981, 1982, 1983, 1984, 1985, 1986, 1987, 1988, 1989, 1990, 1991,\n",
       "       1992, 1993, 1994, 1995, 1996, 1997, 1998, 1999, 2000, 2001, 2002,\n",
       "       2003, 2004, 2005, 2006, 2007, 2008, 2009, 2010, 2011, 2012, 2013,\n",
       "       2014, 2015, 2016, 2017, 2018, 2019, 2020, 2021], dtype=int64)"
      ]
     },
     "execution_count": 14,
     "metadata": {},
     "output_type": "execute_result"
    }
   ],
   "source": [
    "# Looking at content type over time\n",
    "uni_ryear = df_nona.sort_values('release_year')\n",
    "uni_ryear = uni_ryear.release_year.unique()\n",
    "uni_ryear"
   ]
  },
  {
   "cell_type": "code",
   "execution_count": 17,
   "metadata": {},
   "outputs": [],
   "source": [
    "# Seperating count of movies and shows over the years\n",
    "movies_ot = [len(movies.loc[movies['release_year'] == 1925]), len(movies.loc[movies['release_year'] == 1942]), len(movies.loc[movies['release_year'] == 1943]), len(movies.loc[movies['release_year'] == 1944]), len(movies.loc[movies['release_year']==1945]), len(movies.loc[movies['release_year'] == 1946]), len(movies.loc[movies['release_year'] == 1947]),\n",
    "             len(movies.loc[movies['release_year'] == 1954]), len(movies.loc[movies['release_year'] == 1955]), len(movies.loc[movies['release_year'] == 1956]), len(movies.loc[movies['release_year'] == 1958]), len(movies.loc[movies['release_year']==1959]),\n",
    "             len(movies.loc[movies['release_year'] == 1960]), len(movies.loc[movies['release_year'] == 1961]), len(movies.loc[movies['release_year'] == 1962]), len(movies.loc[movies['release_year'] == 1963]), len(movies.loc[movies['release_year']==1964]), len(movies.loc[movies['release_year'] == 1965]), len(movies.loc[movies['release_year'] == 1966]), len(movies.loc[movies['release_year'] == 1967]), len(movies.loc[movies['release_year'] == 1968]), len(movies.loc[movies['release_year'] == 1969]),\n",
    "             len(movies.loc[movies['release_year'] == 1970]), len(movies.loc[movies['release_year'] == 1971]), len(movies.loc[movies['release_year'] == 1972]), len(movies.loc[movies['release_year'] == 1973]), len(movies.loc[movies['release_year']==1974]), len(movies.loc[movies['release_year'] == 1975]), len(movies.loc[movies['release_year'] == 1976]), len(movies.loc[movies['release_year'] == 1977]), len(movies.loc[movies['release_year'] == 1978]), len(movies.loc[movies['release_year'] == 1979]), \n",
    "             len(movies.loc[movies['release_year'] == 1980]), len(movies.loc[movies['release_year'] == 1981]), len(movies.loc[movies['release_year'] == 1982]), len(movies.loc[movies['release_year'] == 1983]), len(movies.loc[movies['release_year']==1984]), len(movies.loc[movies['release_year'] == 1985]), len(movies.loc[movies['release_year'] == 1986]), len(movies.loc[movies['release_year'] == 1987]), len(movies.loc[movies['release_year'] == 1988]), len(movies.loc[movies['release_year'] == 1989]),\n",
    "             len(movies.loc[movies['release_year'] == 1990]), len(movies.loc[movies['release_year'] == 1991]), len(movies.loc[movies['release_year'] == 1992]), len(movies.loc[movies['release_year'] == 1993]), len(movies.loc[movies['release_year']==1994]), len(movies.loc[movies['release_year'] == 1995]), len(movies.loc[movies['release_year'] == 1996]), len(movies.loc[movies['release_year'] == 1997]), len(movies.loc[movies['release_year'] == 1998]), len(movies.loc[movies['release_year'] == 1999]),\n",
    "             len(movies.loc[movies['release_year'] == 2000]), len(movies.loc[movies['release_year'] == 2001]), len(movies.loc[movies['release_year'] == 2002]), len(movies.loc[movies['release_year'] == 2003]), len(movies.loc[movies['release_year']==2004]), len(movies.loc[movies['release_year'] == 2005]), len(movies.loc[movies['release_year'] == 2006]), len(movies.loc[movies['release_year'] == 2007]), len(movies.loc[movies['release_year'] == 2008]), len(movies.loc[movies['release_year'] == 2009]),\n",
    "             len(movies.loc[movies['release_year'] == 2010]), len(movies.loc[movies['release_year'] == 2011]), len(movies.loc[movies['release_year'] == 2012]), len(movies.loc[movies['release_year'] == 2013]), len(movies.loc[movies['release_year']==2014]), len(movies.loc[movies['release_year'] == 2015]), len(movies.loc[movies['release_year'] == 2016]), len(movies.loc[movies['release_year'] == 2017]), len(movies.loc[movies['release_year'] == 2018]), len(movies.loc[movies['release_year'] == 2019]),\n",
    "             len(movies.loc[movies['release_year'] == 2020]), len(movies.loc[movies['release_year'] == 2021])]\n",
    "\n",
    "tvshow_ot = [len(tv_shows.loc[tv_shows['release_year'] == 1925]), len(tv_shows.loc[tv_shows['release_year'] == 1942]), len(tv_shows.loc[tv_shows['release_year'] == 1943]), len(tv_shows.loc[tv_shows['release_year'] == 1944]), len(tv_shows.loc[tv_shows['release_year']==1945]), len(tv_shows.loc[tv_shows['release_year'] == 1946]), len(tv_shows.loc[tv_shows['release_year'] == 1947]),\n",
    "             len(tv_shows.loc[tv_shows['release_year'] == 1954]), len(tv_shows.loc[tv_shows['release_year'] == 1955]), len(tv_shows.loc[tv_shows['release_year'] == 1956]), len(tv_shows.loc[tv_shows['release_year'] == 1958]), len(tv_shows.loc[tv_shows['release_year']==1959]),\n",
    "             len(tv_shows.loc[tv_shows['release_year'] == 1960]), len(tv_shows.loc[tv_shows['release_year'] == 1961]), len(tv_shows.loc[tv_shows['release_year'] == 1962]), len(tv_shows.loc[tv_shows['release_year'] == 1963]), len(tv_shows.loc[tv_shows['release_year']==1964]), len(tv_shows.loc[tv_shows['release_year'] == 1965]), len(tv_shows.loc[tv_shows['release_year'] == 1966]), len(tv_shows.loc[tv_shows['release_year'] == 1967]), len(tv_shows.loc[tv_shows['release_year'] == 1968]), len(tv_shows.loc[tv_shows['release_year'] == 1969]),\n",
    "             len(tv_shows.loc[tv_shows['release_year'] == 1970]), len(tv_shows.loc[tv_shows['release_year'] == 1971]), len(tv_shows.loc[tv_shows['release_year'] == 1972]), len(tv_shows.loc[tv_shows['release_year'] == 1973]), len(tv_shows.loc[tv_shows['release_year']==1974]), len(tv_shows.loc[tv_shows['release_year'] == 1975]), len(tv_shows.loc[tv_shows['release_year'] == 1976]), len(tv_shows.loc[tv_shows['release_year'] == 1977]), len(tv_shows.loc[tv_shows['release_year'] == 1978]), len(tv_shows.loc[tv_shows['release_year'] == 1979]), \n",
    "             len(tv_shows.loc[tv_shows['release_year'] == 1980]), len(tv_shows.loc[tv_shows['release_year'] == 1981]), len(tv_shows.loc[tv_shows['release_year'] == 1982]), len(tv_shows.loc[tv_shows['release_year'] == 1983]), len(tv_shows.loc[tv_shows['release_year']==1984]), len(tv_shows.loc[tv_shows['release_year'] == 1985]), len(tv_shows.loc[tv_shows['release_year'] == 1986]), len(tv_shows.loc[tv_shows['release_year'] == 1987]), len(tv_shows.loc[tv_shows['release_year'] == 1988]), len(tv_shows.loc[tv_shows['release_year'] == 1989]),\n",
    "             len(tv_shows.loc[tv_shows['release_year'] == 1990]), len(tv_shows.loc[tv_shows['release_year'] == 1991]), len(tv_shows.loc[tv_shows['release_year'] == 1992]), len(tv_shows.loc[tv_shows['release_year'] == 1993]), len(tv_shows.loc[tv_shows['release_year']==1994]), len(tv_shows.loc[tv_shows['release_year'] == 1995]), len(tv_shows.loc[tv_shows['release_year'] == 1996]), len(tv_shows.loc[tv_shows['release_year'] == 1997]), len(tv_shows.loc[tv_shows['release_year'] == 1998]), len(tv_shows.loc[tv_shows['release_year'] == 1999]),\n",
    "             len(tv_shows.loc[tv_shows['release_year'] == 2000]), len(tv_shows.loc[tv_shows['release_year'] == 2001]), len(tv_shows.loc[tv_shows['release_year'] == 2002]), len(tv_shows.loc[tv_shows['release_year'] == 2003]), len(tv_shows.loc[tv_shows['release_year']==2004]), len(tv_shows.loc[tv_shows['release_year'] == 2005]), len(tv_shows.loc[tv_shows['release_year'] == 2006]), len(tv_shows.loc[tv_shows['release_year'] == 2007]), len(tv_shows.loc[tv_shows['release_year'] == 2008]), len(tv_shows.loc[tv_shows['release_year'] == 2009]),\n",
    "             len(tv_shows.loc[tv_shows['release_year'] == 2010]), len(tv_shows.loc[tv_shows['release_year'] == 2011]), len(tv_shows.loc[tv_shows['release_year'] == 2012]), len(tv_shows.loc[tv_shows['release_year'] == 2013]), len(tv_shows.loc[tv_shows['release_year']==2014]), len(tv_shows.loc[tv_shows['release_year'] == 2015]), len(tv_shows.loc[tv_shows['release_year'] == 2016]), len(tv_shows.loc[tv_shows['release_year'] == 2017]), len(tv_shows.loc[tv_shows['release_year'] == 2018]), len(tv_shows.loc[tv_shows['release_year'] == 2019]),\n",
    "             len(tv_shows.loc[tv_shows['release_year'] == 2020]), len(tv_shows.loc[tv_shows['release_year'] == 2021])]\n",
    "\n",
    "years = [1925, 1942, 1943, 1944, 1945, 1946, 1947, 1954, 1955, 1956, 1958,\n",
    "         1959, 1960, 1961, 1962, 1963, 1964, 1965, 1966, 1967, 1968, 1969,\n",
    "         1970, 1971, 1972, 1973, 1974, 1975, 1976, 1977, 1978, 1979, 1980,\n",
    "         1981, 1982, 1983, 1984, 1985, 1986, 1987, 1988, 1989, 1990, 1991,\n",
    "         1992, 1993, 1994, 1995, 1996, 1997, 1998, 1999, 2000, 2001, 2002,\n",
    "         2003, 2004, 2005, 2006, 2007, 2008, 2009, 2010, 2011, 2012, 2013,\n",
    "         2014, 2015, 2016, 2017, 2018, 2019, 2020, 2021]\n",
    "\n",
    "len(tv_shows.loc[tv_shows['release_year']])"
   ]
  },
  {
   "cell_type": "code",
   "execution_count": 27,
   "metadata": {},
   "outputs": [
    {
     "data": {
      "image/png": "[encoded data removed]",
      "text/plain": [
       "<Figure size 1440x1080 with 1 Axes>"
      ]
     },
     "metadata": {
      "needs_background": "light"
     },
     "output_type": "display_data"
    }
   ],
   "source": [
    "plt.figure(figsize=(20,15))\n",
    "movie_plot = plt.plot(years, movies_ot, linewidth = 2)\n",
    "show_plot = plt.plot(years, tvshow_ot, linewidth = 2)\n",
    "\n",
    "plt.legend(['Movies', 'TV Shows'])\n",
    "plt.xlabel('Year')\n",
    "plt.ylabel('Type Count')\n",
    "plt.minorticks_on()"
   ]
  },
  {
   "cell_type": "markdown",
   "metadata": {},
   "source": [
    "### Content Age Ratings O.T"
   ]
  },
  {
   "cell_type": "code",
   "execution_count": 57,
   "metadata": {},
   "outputs": [],
   "source": [
    "# Seperating data into ratings \n",
    "ratings = [len(df_nona.loc[df_nona['rating']== 'TV-14']), len(df_nona.loc[df_nona['rating']== 'PG-13']), len(df_nona.loc[df_nona['rating']== 'PG']), len(df_nona.loc[df_nona['rating']== 'R']),\n",
    "           len(df_nona.loc[df_nona['rating']== 'TV-PG']), len(df_nona.loc[df_nona['rating']== 'G']), len(df_nona.loc[df_nona['rating']== 'TV-Y7']), len(df_nona.loc[df_nona['rating']== 'TV-G']),\n",
    "           len(df_nona.loc[df_nona['rating']== 'TV-Y']),len(df_nona.loc[df_nona['rating']== 'NC-17']), len(df_nona.loc[df_nona['rating']== 'NR']), len(df_nona.loc[df_nona['rating']== 'TV-Y7-FV']), \n",
    "           len(df_nona.loc[df_nona['rating']== 'UR'])]\n",
    "\n",
    "total = len(df_nona)\n",
    "ratings_name = ['TV-14', 'PG-13', 'PG', 'R', 'TV-PG', 'G', 'TV-Y7', 'TV-G', 'TV-Y', 'NC-17', 'NR', 'TV-Y7-FV', 'UR']"
   ]
  },
  {
   "cell_type": "code",
   "execution_count": 67,
   "metadata": {},
   "outputs": [
    {
     "data": {
      "image/png": "[encoded data removed]",
      "text/plain": [
       "<Figure size 1440x720 with 1 Axes>"
      ]
     },
     "metadata": {
      "needs_background": "light"
     },
     "output_type": "display_data"
    }
   ],
   "source": [
    "# Bar plots\n",
    "plt.figure(figsize=(20,10))\n",
    "plt.bar(ratings_name, ratings)\n",
    "\n",
    "plt.xlabel('Content Rating')\n",
    "plt.ylabel('Rating Content Count')\n",
    "plt.minorticks_on()"
   ]
  },
  {
   "cell_type": "code",
   "execution_count": null,
   "metadata": {},
   "outputs": [],
   "source": []
  }
 ],
 "metadata": {
  "kernelspec": {
   "display_name": "Python 3",
   "language": "python",
   "name": "python3"
  },
  "language_info": {
   "codemirror_mode": {
    "name": "ipython",
    "version": 3
   },
   "file_extension": ".py",
   "mimetype": "text/x-python",
   "name": "python",
   "nbconvert_exporter": "python",
   "pygments_lexer": "ipython3",
   "version": "3.7.3"
  }
 },
 "nbformat": 4,
 "nbformat_minor": 2
}
